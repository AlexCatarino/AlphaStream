{
 "cells": [
  {
   "cell_type": "markdown",
   "metadata": {},
   "source": [
    "![QuantConnect Logo](https://cdn.quantconnect.com/web/i/logo-small.png)\n",
    "# QuantConnect Alpha Streams\n",
    "#### Licensed Under QuantConnect Platform Service Agreement v1.0. Copyright QuantConnect 2018.\n",
    "#### For more information; see the Open API Specification of Alpha Streams: https://app.swaggerhub.com/apis/QuantConnect/Alpha/0.4"
   ]
  },
  {
   "cell_type": "markdown",
   "metadata": {},
   "source": [
    "## Introduction\n",
    "\n",
    "QuantConnect Alpha Streams allows quantiative funds to search a database of algorithm authors; and instantly license the authors' strategies (`Alpha`). The license agreements and fee structure is already prenegotiated, and the standardized backtesting and live trading infrastructure can give funds confidence in the algorithm results. Upon licensing an Alpha the insights/signals are instantly delivered to the fund in realtime."
   ]
  },
  {
   "cell_type": "markdown",
   "metadata": {},
   "source": [
    "## Terminology\n",
    " - `Alpha`     - Strategy for licensing.\n",
    " - `Author`    - QuantConnect member and creator of the Alpha. \n",
    " - `Insight`   - Trade signal from an algorithm; consisting of an asset, direction, magnitude and confidence.\n",
    " - `Project`   - Properties of the project which submitted the `Alpha` "
   ]
  },
  {
   "cell_type": "markdown",
   "metadata": {},
   "source": [
    "## SDK Demonstration\n"
   ]
  },
  {
   "cell_type": "markdown",
   "metadata": {},
   "source": [
    "### 1. Setup the SDK: Login with Client Credentials\n",
    "We have written a full abstraction and SDK for the API which you can quickly import into your investment process. To start create a new instance of the `AlphaStreamClient` with your clientId and token."
   ]
  },
  {
   "cell_type": "code",
   "execution_count": 1,
   "metadata": {},
   "outputs": [],
   "source": [
    "# Prepare the import. This step is needed of AlphaStream is not installed yet\\n\",\n",
    "try:\n",
    "    import AlphaStream\n",
    "except ImportError:\n",
    "    import os, sys\n",
    "    from os.path import dirname\n",
    "    sys.path.append(dirname(os.getcwd()))"
   ]
  },
  {
   "cell_type": "code",
   "execution_count": 2,
   "metadata": {},
   "outputs": [],
   "source": [
    "# Import Python SDK Client Library \n",
    "from AlphaStream import AlphaStreamRestClient \n",
    "\n",
    "# Define the clientId and API access token:\n",
    "clientId  = \"c7bd966e930c4b15b2ec13eb0d6170d9\"\n",
    "token     = \"7030e89cfcc1948f4f93e91edd93d6f687c737844a6969d99d609a78f8d0a5c4091ef11f31c4c0e9cccacefe36ff4c2ad0e15525a85c65b0eafa34064cd11b1c\"\n",
    "\n",
    "# Create a new instance of the client module:\n",
    "client = AlphaStreamRestClient(clientId, token)"
   ]
  },
  {
   "cell_type": "markdown",
   "metadata": {},
   "source": [
    "### 2. Listing all Alpha Strategies For Licensing\n",
    "Listing all alpha ids so you can maintain a dictionary and detect programatically when a new alpha is added to the API."
   ]
  },
  {
   "cell_type": "code",
   "execution_count": 3,
   "metadata": {},
   "outputs": [
    {
     "name": "stdout",
     "output_type": "stream",
     "text": [
      "['019262286c58ee31ca7bf852f', '0b909280380ccefe0093ec991', '21a2a00a097117a84788c1434', '2ba3acf1b3c60670adf7f56c0', '2d3db6308e0086b2dd28c0512', '2dbbc48847da7d6e2a366f11c', '31ac5498164db7341b041a732', '3b5e47ca8ffef1b80d96dfcfe', '53f2d3f4f54f788e06507cef1', '5443d94e213604f4fefbab185', '635ccc2ae85f96d18663976d2', '73847f44e1374e7e0c2811888', '7d4bb39d5acd861a71146b385', '801e624c0fa4affa6da3f998d', '80bbae649ca2e4e328fe49c0f', '8e123e4c0025f3a95cfdda7b8', '8f05a7dcfdc5082f56ab641a6', '8f81cbb82c0527bca80ed85b0', '91c466325d06235407c26054f', '965559f6bd86a053e8042e1bf', 'a40aa4e9e72f3b3a2b1656952', 'aa88eb5d50fded8128ff70e7b', 'ae2fe2fba3197aedcce90266d', 'd0fc88b1e6354fe95eb83225a', 'd7b7692384ed26910e5e89c00', 'd9a666f710152132129bb1c8c', 'ee29783773ff7a22db404836e', 'f0af692b1bc00ab83fe3ae76d', 'f87437943664034416bd367f6', 'fdff7e753b54105b67210d743']\n"
     ]
    }
   ],
   "source": [
    "# List all alphas:\n",
    "print(client.GetAlphaList())"
   ]
  },
  {
   "cell_type": "markdown",
   "metadata": {},
   "source": [
    "### 3. Searching Alpha Strategies For Licensing\n",
    "The primary aim of the Alpha Streams API is to quickly search for Alpha which matches your criteria. This criteria is unique to your fund and might include such aspects as: asset class, time horizon, risk adjusted return or market depth. Alpha Streams API aims to give you flexibility you need to locate suitable algorithms."
   ]
  },
  {
   "cell_type": "code",
   "execution_count": 4,
   "metadata": {},
   "outputs": [
    {
     "name": "stdout",
     "output_type": "stream",
     "text": [
      "Alpha: id: 801e624c0fa4affa6da3f998d Project: 'None' Fee: $1.00/mo Tags : $['Immediate', 'Algorithmic Selection', 'Mean Reversion', 'Equal Weighting']\n",
      "Alpha: id: 2d3db6308e0086b2dd28c0512 Project: 'None' Fee: $1.00/mo Tags : $['Immediate', 'Mean Reversion', 'Equal Weighting', 'Period Rebalance', 'Basket Selection']\n",
      "Alpha: id: 7d4bb39d5acd861a71146b385 Project: 'None' Fee: $1.00/mo Tags : $['Immediate', 'Algorithmic Selection', 'Mean Reversion', 'Deterministic', 'Equal Weighting']\n",
      "Alpha: id: fdff7e753b54105b67210d743 Project: 'None' Fee: $1.00/mo Tags : $['Immediate', 'Mean Reversion', 'Equal Weighting', 'Basket Selection']\n",
      "Alpha: id: 53f2d3f4f54f788e06507cef1 Project: 'None' Fee: $0.00/mo Tags : $['Immediate', 'Pairs Trading', 'Mean Reversion', 'Pairs Selection', 'Equal Weighting']\n",
      "Alpha: id: 8f05a7dcfdc5082f56ab641a6 Project: 'None' Fee: $1.00/mo Tags : $['Immediate', 'Pairs Trading', 'Mean Reversion', 'Manual Selection', 'Equal Weighting']\n"
     ]
    }
   ],
   "source": [
    "# Submit Search:\n",
    "alphas = client.SearchAlphas( includedTags = ['mean reversion'], excludedTags = ['single selection'] )\n",
    "\n",
    "# Display some information on the algorithms:\n",
    "for a in alphas:\n",
    "    print(f\"Alpha: id: {a.Id} Project: '{a.Project.Name}' Fee: ${a.SharedSubscriptionFee:,.2f}/mo Tags : ${a.Tags}\")"
   ]
  },
  {
   "cell_type": "markdown",
   "metadata": {},
   "source": [
    "#### 3.1 Verify the alpha prices and create a new bid\n",
    "Once you found an interesing alpha stream, you can retrieve its recent price history and make a bid"
   ]
  },
  {
   "cell_type": "code",
   "execution_count": 5,
   "metadata": {},
   "outputs": [
    {
     "name": "stdout",
     "output_type": "stream",
     "text": [
      "Bid price from 2020-05-15 00:39:25.081800: Exclusive $0.00\n",
      "Trade price from 2020-05-15 00:41:10.878600: Shared $1.00.\n",
      "Trade price from 2020-05-15 00:41:11.770100: Shared $1.00.\n",
      "Bid price from 2020-06-17 17:52:04.431500: Shared $1.00.\n",
      "Trade price from 2020-06-17 17:55:49.571600: Shared $1.00.\n"
     ]
    }
   ],
   "source": [
    "prices = client.GetAlphaQuotePrices('d0fc88b1e6354fe95eb83225a')\n",
    "for price in prices[-5:]:\n",
    "    print(price)"
   ]
  },
  {
   "cell_type": "code",
   "execution_count": 6,
   "metadata": {},
   "outputs": [
    {
     "data": {
      "text/plain": [
       "'Bid price was successfully created.'"
      ]
     },
     "execution_count": 6,
     "metadata": {},
     "output_type": "execute_result"
    }
   ],
   "source": [
    "from datetime import datetime, timedelta\n",
    "\n",
    "client.CreateBid(\n",
    "    alphaId = 'd0fc88b1e6354fe95eb83225a',\n",
    "    shared = 1,\n",
    "    good_until = datetime.utcnow() + timedelta(1)\n",
    ")"
   ]
  },
  {
   "cell_type": "markdown",
   "metadata": {},
   "source": [
    "### 4. Pull Information on an Alpha By Specific AlphaId\n",
    "You can fetch information on an alpha by its associated id with the `/alpha/{id}` API endpoint."
   ]
  },
  {
   "cell_type": "code",
   "execution_count": 7,
   "metadata": {
    "scrolled": true
   },
   "outputs": [
    {
     "name": "stdout",
     "output_type": "stream",
     "text": [
      "Alpha Id: d0fc88b1e6354fe95eb83225a\n",
      "    Project: Intraday Reversal Mean Reversion\n",
      "    ExclusiveAvailable: True\n",
      "    Listed: 2019-02-11 02:38:05\n"
     ]
    }
   ],
   "source": [
    "# Prospective / Test Alpha Id:\n",
    "alphaId = \"d0fc88b1e6354fe95eb83225a\"\n",
    "alpha = client.GetAlphaById( alphaId )\n",
    "\n",
    "# Print out the Alpha data:\n",
    "print(f'''Alpha Id: {alpha.Id}\n",
    "    Project: {alpha.Name}\n",
    "    ExclusiveAvailable: {alpha.ExclusiveAvailable}\n",
    "    Listed: {alpha.ListedTime}''')"
   ]
  },
  {
   "cell_type": "markdown",
   "metadata": {},
   "source": [
    "### 5. Get Last 5 Insights of an Alpha\n",
    "All historical insights of an Alpha are recorded in a database. Insights are generated `in sample`, `out of sample` or in `live trading`. Using these insights you can perform your own backtests with your own fill and slippage models to see how the strategy would have performed with your execution."
   ]
  },
  {
   "cell_type": "code",
   "execution_count": 8,
   "metadata": {
    "scrolled": true
   },
   "outputs": [
    {
     "name": "stdout",
     "output_type": "stream",
     "text": [
      "2020-06-11 16:00:00.006875 Alpha live trading price insight for EURUSD     going up over the next 10859.993s\n",
      "2020-06-15 14:00:00.000174 Alpha live trading price insight for EURUSD     going down over the next 18060s\n",
      "2020-06-15 16:00:00.001297 Alpha live trading price insight for EURUSD     going up over the next 10859.999s\n",
      "2020-06-15 17:00:00.001830 Alpha live trading price insight for EURUSD     going down over the next 7259.998s\n",
      "2020-06-16 14:00:00.003242 Alpha live trading price insight for EURUSD     going up over the next 18059.997s\n"
     ]
    }
   ],
   "source": [
    "# Request Insights for the Previously Alpha\n",
    "insights = client.GetAlphaInsights( alphaId, start = 1760 )\n",
    "\n",
    "# Take Top 5:\n",
    "for i in insights[-5:]:\n",
    "    magnitude = \"\" if i.Magnitude is None else \" by {i.Magnitude:.2%}\"\n",
    "    print(f\"{i.CreatedTime} Alpha {i.Source} {i.Type} insight for {i.Ticker:<10} going {i.Direction}{magnitude} over the next {i.Period}s\")"
   ]
  },
  {
   "cell_type": "markdown",
   "metadata": {},
   "source": [
    "### 6. Get First 5 Orders of an Alpha\n",
    "All historical orders of an Alpha are recorded in a database. Orders are generated `in sample`, `out of sample` or in `live trading`. Using these orders you can perform your own backtests with your own fill and slippage models to see how the strategy would have performed with your execution."
   ]
  },
  {
   "cell_type": "code",
   "execution_count": 9,
   "metadata": {},
   "outputs": [
    {
     "name": "stdout",
     "output_type": "stream",
     "text": [
      "ID: a51cf825449183c9b4e87c8f28f2b7c4-1 Source: \"in sample\" Symbol: BTCUSD XJ Status: Filled CreatedTime: 2020-03-25 04:00:00 Direction: Buy Quantity: 0.001 Type: Market TimeInForceType: dayTimeInForce BrokerID: 1 Price: 6572.12 USD LastFillTime: 2020-03-25 04:00:00 SubmissionLastPrice: 6570.66 SubmissionAskPrice: 6572.12 SubmissionBidPrice: 6569.2 OrderEvents: [{Time: 2020-03-25 04:00:00 OrderEventId: 1 Status: Submitted Quantity: 0.001},{Time: 2020-03-25 04:00:00 OrderEventId: 2 Status: Filled Quantity: 0.001 Fill Quantity: 0.001 Fill Price: 6572.12 USD}]\n",
      "\n",
      "ID: a51cf825449183c9b4e87c8f28f2b7c4-2 Source: \"in sample\" Symbol: BTCUSD XJ Status: Filled CreatedTime: 2020-03-25 04:00:00 Direction: Buy Quantity: 0.001 Type: Market TimeInForceType: dayTimeInForce BrokerID: 2 Price: 6572.12 USD LastFillTime: 2020-03-25 04:00:00 SubmissionLastPrice: 6570.66 SubmissionAskPrice: 6572.12 SubmissionBidPrice: 6569.2 Tag: Attempt to cancel async order OrderEvents: [{Time: 2020-03-25 04:00:00 OrderEventId: 1 Status: Submitted Quantity: 0.001},{Time: 2020-03-25 04:00:00 OrderEventId: 2 Status: Filled Quantity: 0.001 Fill Quantity: 0.001 Fill Price: 6572.12 USD}]\n",
      "\n",
      "ID: a51cf825449183c9b4e87c8f28f2b7c4-3 Source: \"in sample\" Symbol: BTCUSD XJ Status: Filled CreatedTime: 2020-03-25 04:00:00 Direction: Buy Quantity: 0.002 Type: Limit TimeInForceType: dayTimeInForce BrokerID: 3 Price: 6569.16 USD LastUpdateTime: 2020-03-25 04:00:00 LastFillTime: 2020-03-25 04:01:00 LimitPrice: 6569.16 SubmissionLastPrice: 6570.66 SubmissionAskPrice: 6572.12 SubmissionBidPrice: 6569.2 Tag: Update #1 OrderEvents: [{Time: 2020-03-25 04:00:00 OrderEventId: 1 Status: Submitted Quantity: 0.001 Limit Price: 6568.66},{Time: 2020-03-25 04:00:00 OrderEventId: 2 Status: UpdateSubmitted Quantity: 0.002 Limit Price: 6569.16},{Time: 2020-03-25 04:01:00 OrderEventId: 3 Status: Filled Quantity: 0.002 Fill Quantity: 0.002 Fill Price: 6569.16 USD Limit Price: 6569.16}]\n",
      "\n",
      "ID: a51cf825449183c9b4e87c8f28f2b7c4-4 Source: \"in sample\" Symbol: BTCUSD XJ Status: Canceled CreatedTime: 2020-03-25 04:00:00 Direction: Sell Quantity: -0.002 Type: Limit TimeInForceType: dayTimeInForce BrokerID: 4 LastUpdateTime: 2020-03-25 04:00:00 CanceledTime: 2020-03-25 04:01:00 LimitPrice: 6572.16 SubmissionLastPrice: 6570.66 SubmissionAskPrice: 6572.12 SubmissionBidPrice: 6569.2 Tag: Long filled. OrderEvents: [{Time: 2020-03-25 04:00:00 OrderEventId: 1 Status: Submitted Quantity: -0.001 Limit Price: 6572.66},{Time: 2020-03-25 04:00:00 OrderEventId: 2 Status: UpdateSubmitted Quantity: -0.002 Limit Price: 6572.16},{Time: 2020-03-25 04:01:00 OrderEventId: 3 Status: CancelPending Quantity: -0.002 Limit Price: 6572.16},{Time: 2020-03-25 04:01:00 OrderEventId: 4 Status: Canceled Quantity: -0.002 Limit Price: 6572.16}]\n",
      "\n",
      "ID: a51cf825449183c9b4e87c8f28f2b7c4-5 Source: \"in sample\" Symbol: BTCUSD XJ Status: Filled CreatedTime: 2020-03-25 04:00:00 Direction: Buy Quantity: 0.001 Type: StopMarket TimeInForceType: dayTimeInForce BrokerID: 5 Price: 6571.66 USD LastUpdateTime: 2020-03-25 04:01:00 LastFillTime: 2020-03-25 04:01:00 StopPrice: 6571.66 SubmissionLastPrice: 6570.66 SubmissionAskPrice: 6572.12 SubmissionBidPrice: 6569.2 Tag: Update #2 OrderEvents: [{Time: 2020-03-25 04:00:00 OrderEventId: 1 Status: Submitted Quantity: 0.001 Stop Price: 6572.66},{Time: 2020-03-25 04:00:00 OrderEventId: 2 Status: UpdateSubmitted Quantity: 0.001 Stop Price: 6572.16},{Time: 2020-03-25 04:01:00 OrderEventId: 3 Status: UpdateSubmitted Quantity: 0.001 Stop Price: 6571.66},{Time: 2020-03-25 04:01:00 OrderEventId: 4 Status: Filled Quantity: 0.001 Fill Quantity: 0.001 Fill Price: 6571.66 USD Stop Price: 6571.66}]\n",
      "\n"
     ]
    }
   ],
   "source": [
    "orders = client.GetAlphaOrders(\"21a2a00a097117a84788c1434\", start = 0)\n",
    "for o in orders[:5]:\n",
    "    print(f'{o}\\n')"
   ]
  },
  {
   "cell_type": "markdown",
   "metadata": {},
   "source": [
    "### 7. Seach Alpha Streams by Author Details\n",
    "Knowing who created the Alpha can be an important search tool to improve your filtering. Participating Author information can be searched in a similar manner to the Alpha Search. Each supplied criteria is a logical AND on the query."
   ]
  },
  {
   "cell_type": "code",
   "execution_count": 10,
   "metadata": {},
   "outputs": [
    {
     "name": "stdout",
     "output_type": "stream",
     "text": [
      "Located 1 authors matching your criteria.\n",
      "Alpha Stream Author 2b255 is from  Virginia, US. Signed up 2016-09-28 17:20:14 and codes in C#\n"
     ]
    }
   ],
   "source": [
    "languages = [\"C#\"]\n",
    "\n",
    "authors = client.SearchAuthors( languages = languages, location = \"Virginia\" )\n",
    "\n",
    "print(f\"Located {len(authors)} authors matching your criteria.\")\n",
    "\n",
    "for a in authors[:5]:\n",
    "    print(f\"Alpha Stream Author {a.Id[:5]:>5} is from {a.Location}. Signed up {a.SignUpTime} and codes in {a.Language}\")"
   ]
  },
  {
   "cell_type": "markdown",
   "metadata": {},
   "source": [
    "### 8. Fetch Detailed Information on a Specific Author\n",
    "The API allows you to fetch detailed information on a specific author by the hash-id."
   ]
  },
  {
   "cell_type": "code",
   "execution_count": 11,
   "metadata": {},
   "outputs": [
    {
     "name": "stdout",
     "output_type": "stream",
     "text": [
      "Author Id: 2b255\n",
      "    Biography: This is an alpha developer profile for the QuantCo...\n",
      "    Projects: 486\n",
      "    Language: C#\n",
      "    Signed Up: 2016-09-28 17:20:14\n",
      "    Location:  Virginia, US\n"
     ]
    }
   ],
   "source": [
    "# Author to fetch profile information about:\n",
    "authorId = '2b2552a1c05f83ba4407d4c32889c367'\n",
    "\n",
    "# Submit request for more information:\n",
    "author = client.GetAuthorById(authorId)\n",
    "\n",
    "# Print out the Alpha data:\n",
    "print(f'''Author Id: {author.Id[:5]}\n",
    "    Biography: {author.Biography[:50]}...\n",
    "    Projects: {author.Projects}\n",
    "    Language: {author.Language}\n",
    "    Signed Up: {author.SignUpTime}\n",
    "    Location: {author.Location}''')"
   ]
  },
  {
   "cell_type": "markdown",
   "metadata": {},
   "source": [
    "### 9. Subscribing and Unsubscribing from An Alpha\n",
    "Once you've located an Alpha you need to subscribe to it to recieve its streaming insights. Alphas have a monthly licensing fee which is engaged once you request its signals. There is a minimum fee equivalent to 7 days of licensing from an Alpha. Sending a subscription request starts delivery of the signals to the fund-exchange."
   ]
  },
  {
   "cell_type": "code",
   "execution_count": 12,
   "metadata": {},
   "outputs": [
    {
     "name": "stdout",
     "output_type": "stream",
     "text": [
      "Started Subscription to d0fc88b1e6354fe95eb83225a: True\n"
     ]
    }
   ],
   "source": [
    "# Alpha to subscribe to:\n",
    "alphaId = \"d0fc88b1e6354fe95eb83225a\"\n",
    "\n",
    "subscribeResult = client.Subscribe( alphaId )\n",
    "print(f\"Started Subscription to {alphaId}: {subscribeResult}\")"
   ]
  },
  {
   "cell_type": "code",
   "execution_count": 13,
   "metadata": {},
   "outputs": [
    {
     "name": "stdout",
     "output_type": "stream",
     "text": [
      "Stopped Subscription to d0fc88b1e6354fe95eb83225a: True\n"
     ]
    }
   ],
   "source": [
    "unsubscribeResult = client.Unsubscribe( alphaId )\n",
    "print(f\"Stopped Subscription to {alphaId}: {unsubscribeResult}\")"
   ]
  },
  {
   "cell_type": "markdown",
   "metadata": {},
   "source": [
    "### 10. Stream Insights from An Alpha\n",
    "Finally once analysed and subscribed to an Alpha - you can pull down the individual insights with the streaming socket connection. This is to use the insights in realtime in your fund management."
   ]
  },
  {
   "cell_type": "code",
   "execution_count": 14,
   "metadata": {
    "scrolled": true
   },
   "outputs": [
    {
     "name": "stdout",
     "output_type": "stream",
     "text": [
      "Streaming insights for 60 seconds... \n",
      "2020-06-17 17:59:00.001780 Alpha live trading price insight for BTCUSD     going flat over the next 86400.0s\n",
      "Streaming completed.\n"
     ]
    },
    {
     "data": {
      "text/plain": [
       "True"
      ]
     },
     "execution_count": 14,
     "metadata": {},
     "output_type": "execute_result"
    }
   ],
   "source": [
    "# Import the streaming client helper library\n",
    "from AlphaStream.Models import Insight\n",
    "from AlphaStream.AlphaStreamEventClient import AlphaStreamEventClient\n",
    "\n",
    "# Configure authentication details\n",
    "user = \"demo-api\"\n",
    "password = \"demo\"\n",
    "ipaddress = \"35.231.13.1\"\n",
    "virtualhost = \"demo-client\"\n",
    "exchange = \"QCAlphaExchange_Demo-Client\"\n",
    "alphaId = \"31ac5498164db7341b041a732\"\n",
    "\n",
    "# Subscribe to the Alpha so we can stream the Insights\n",
    "client.Subscribe(alphaId)\n",
    "\n",
    "# Create the streaming client tool:\n",
    "streamClient = AlphaStreamEventClient(user, password, ipaddress, virtualhost, exchange)\n",
    "\n",
    "print(\"Streaming insights for 60 seconds... \")\n",
    "\n",
    "# StreamSynchronously pulls down Insights for a minimum timeout in a blocking manner.\n",
    "for i in streamClient.StreamSynchronously( alphaId, timeout=60 ):\n",
    "    if isinstance(i, Insight):\n",
    "        print(i)\n",
    "\n",
    "print(\"Streaming completed.\")\n",
    "\n",
    "# Unsubscribe from the Alpha so we don't continue licensing it\n",
    "client.Unsubscribe(alphaId)"
   ]
  },
  {
   "cell_type": "markdown",
   "metadata": {},
   "source": [
    "### 11. Stream Orders from An Alpha\n",
    "You can also pull down the individual orders with the streaming socket connection. This is to use the orders in realtime in your fund management."
   ]
  },
  {
   "cell_type": "code",
   "execution_count": 15,
   "metadata": {},
   "outputs": [
    {
     "name": "stdout",
     "output_type": "stream",
     "text": [
      "Streaming orders for 20 seconds... \n",
      "ID: A-a091e8eb1e32d8023bb6a59760cd8343-254528 Source: \"live trading\" Symbol: BTCUSD XJ Status: Submitted CreatedTime: 2020-06-17 18:00:01.275671 Direction: Buy Quantity: 0.001 Type: Market TimeInForceType: dayTimeInForce BrokerID: 254528 SubmissionLastPrice: 9394.995 SubmissionAskPrice: 9395.0 SubmissionBidPrice: 9394.99 OrderEvents: [{Time: 2020-06-17 18:00:01.275671 OrderEventId: 1 Status: Submitted Quantity: 0.001 Order Fee: None None}]\n",
      "\n",
      "Streaming completed.\n"
     ]
    },
    {
     "data": {
      "text/plain": [
       "True"
      ]
     },
     "execution_count": 15,
     "metadata": {},
     "output_type": "execute_result"
    }
   ],
   "source": [
    "from AlphaStream.Models import Order\n",
    "\n",
    "# Select Alpha to stream\n",
    "alphaId = \"21a2a00a097117a84788c1434\"\n",
    "\n",
    "# Create the streaming client tool:\n",
    "streamClient = AlphaStreamEventClient(user, password, ipaddress, virtualhost, exchange)\n",
    "\n",
    "# Subscribe to the Alpha so we can stream the Insights\n",
    "client.Subscribe(alphaId)\n",
    "\n",
    "print(\"Streaming orders for 20 seconds... \")\n",
    "\n",
    "# StreamSynchronously pulls down Insights for a minimum timeout in a blocking manner.\n",
    "for i in streamClient.StreamSynchronously( alphaId, timeout=20 ):\n",
    "    if isinstance(i, Order):\n",
    "        print(f'{i}\\n')\n",
    "\n",
    "print(\"Streaming completed.\")\n",
    "\n",
    "# Unsubscribe from the Alpha so we don't continue licensing it\n",
    "client.Unsubscribe(alphaId)"
   ]
  },
  {
   "cell_type": "markdown",
   "metadata": {},
   "source": [
    "### 12. Get Alpha Price\n",
    "Find an Alpha's price history to see how much it costs to license or if it has changed price in the market."
   ]
  },
  {
   "cell_type": "code",
   "execution_count": 16,
   "metadata": {},
   "outputs": [
    {
     "name": "stdout",
     "output_type": "stream",
     "text": [
      "trade price from 2020-05-15 00:41:11.770100, shared $1 and the exclusive $None\n",
      "bid price from 2020-06-17 17:52:04.431500, shared $1 and the exclusive $None\n",
      "trade price from 2020-06-17 17:55:49.571600, shared $1 and the exclusive $None\n",
      "bid price from 2020-06-17 17:58:34.655900, shared $1 and the exclusive $None\n",
      "trade price from 2020-06-17 17:58:39.890200, shared $1 and the exclusive $None\n"
     ]
    }
   ],
   "source": [
    "alphaId = \"d0fc88b1e6354fe95eb83225a\"\n",
    "\n",
    "prices = client.GetAlphaQuotePrices(alphaId, start = 0)\n",
    "\n",
    "# Take 5:\n",
    "for i in prices[-5:]:\n",
    "    print(f\"{i.PriceType} price from {i.Time}, shared ${i.SharedPrice} and the exclusive ${i.ExclusivePrice}\")"
   ]
  },
  {
   "cell_type": "markdown",
   "metadata": {},
   "source": [
    "### 13. Get Alpha Errors\n",
    "See what runtime errors the Alpha has experienced to understand its stability in live trading."
   ]
  },
  {
   "cell_type": "code",
   "execution_count": 17,
   "metadata": {},
   "outputs": [
    {
     "name": "stdout",
     "output_type": "stream",
     "text": [
      "Error at 2019-02-19 06:30:03, error message: Algorithm., stacktrace: System.Exc\n",
      "Error at 2019-02-19 06:30:04, error message: Algorithm., stacktrace: \n",
      "Error at 2019-02-19 06:30:46, error message: Algorithm., stacktrace: System.Exc\n",
      "Error at 2019-02-19 06:30:47, error message: Algorithm., stacktrace: \n"
     ]
    }
   ],
   "source": [
    "alphaId = \"d0fc88b1e6354fe95eb83225a\"\n",
    "\n",
    "errors = client.GetAlphaErrors(alphaId, start = 0)\n",
    "\n",
    "# Take Top 5:\n",
    "for i in errors[:5]:\n",
    "    print(f\"Error at {i.Time}, error message: {i.Error[:10]}, stacktrace: {i.Stacktrace[:10]}\") "
   ]
  },
  {
   "cell_type": "markdown",
   "metadata": {},
   "source": [
    "### 14. Get the equity curve on an Alpha\n",
    "\n",
    "Get the equity curve of an Alpha, including both backtesting and live-trading. Helpful for understanding NAV correlation and visualization."
   ]
  },
  {
   "cell_type": "code",
   "execution_count": 18,
   "metadata": {
    "scrolled": false
   },
   "outputs": [
    {
     "name": "stdout",
     "output_type": "stream",
     "text": [
      "                          equity     sample\n",
      "time                                       \n",
      "2015-01-01 23:00:00  1000000.000  in sample\n",
      "2015-01-02 22:00:00   998854.324  in sample\n",
      "2015-01-04 23:00:00   998854.324  in sample\n",
      "2015-01-05 23:00:00  1001529.689  in sample\n",
      "2015-01-07 01:00:00   999041.534  in sample\n",
      "                            equity        sample\n",
      "time                                            \n",
      "2020-06-14 03:50:01  884450.291707  live trading\n",
      "2020-06-15 03:50:02  884450.291707  live trading\n",
      "2020-06-16 03:50:02  883611.871127  live trading\n",
      "2020-06-17 03:50:02  882665.638337  live trading\n",
      "2020-06-17 08:20:02  882665.638337  live trading\n"
     ]
    }
   ],
   "source": [
    "import matplotlib.pyplot as plt\n",
    "alphaId = \"d0fc88b1e6354fe95eb83225a\"\n",
    "equity = client.GetAlphaEquityCurve(alphaId)\n",
    "print(equity.head())\n",
    "print(equity.tail())"
   ]
  },
  {
   "cell_type": "code",
   "execution_count": 19,
   "metadata": {},
   "outputs": [
    {
     "data": {
      "image/png": "[encoded data removed]",
      "text/plain": [
       "<Figure size 432x288 with 1 Axes>"
      ]
     },
     "metadata": {
      "needs_background": "light"
     },
     "output_type": "display_data"
    }
   ],
   "source": [
    "equity.drop('sample', axis=1).plot()\n",
    "plt.show()"
   ]
  },
  {
   "cell_type": "code",
   "execution_count": 20,
   "metadata": {},
   "outputs": [
    {
     "data": {
      "image/png": "[encoded data removed]",
      "text/plain": [
       "<Figure size 432x288 with 1 Axes>"
      ]
     },
     "metadata": {
      "needs_background": "light"
     },
     "output_type": "display_data"
    }
   ],
   "source": [
    "equity.loc[equity['sample'] == 'in sample'].drop('sample', axis=1).plot()\n",
    "plt.title('Backtest Performance')\n",
    "plt.show()"
   ]
  },
  {
   "cell_type": "code",
   "execution_count": 21,
   "metadata": {},
   "outputs": [
    {
     "data": {
      "image/png": "[encoded data removed]",
      "text/plain": [
       "<Figure size 432x288 with 1 Axes>"
      ]
     },
     "metadata": {
      "needs_background": "light"
     },
     "output_type": "display_data"
    }
   ],
   "source": [
    "equity.loc[equity['sample'] == 'live trading'].drop('sample', axis=1).plot()\n",
    "plt.title(\"Live Performance\")\n",
    "plt.show()"
   ]
  },
  {
   "cell_type": "markdown",
   "metadata": {},
   "source": [
    "### 15. Create a conversation thread.\n",
    "Start a conversation with the author(s) of the alpha via email. Quickly solve reconciliation issues or design automated filter questions.    "
   ]
  },
  {
   "cell_type": "code",
   "execution_count": 22,
   "metadata": {},
   "outputs": [
    {
     "data": {
      "text/plain": [
       "'Conversation thread was successfully created.'"
      ]
     },
     "execution_count": 22,
     "metadata": {},
     "output_type": "execute_result"
    }
   ],
   "source": [
    "client.CreateConversation(\n",
    "    alphaId = \"d0fc88b1e6354fe95eb83225a\",\n",
    "    email = \"you@your-company.com\",\n",
    "    message = \"Hello World!\",\n",
    "    subject = \"Alpha Conversation\",\n",
    "    cc = \"bot1@your-company.com, bot2@your-company.com, bot2@your-company.com\"\n",
    ")"
   ]
  },
  {
   "cell_type": "markdown",
   "metadata": {},
   "source": [
    "### 16. Decode Symbol string.\n",
    "Symbol represents a unique security identifier. This is made of two components, the unique SID and the Value. The value is the current ticker symbol while the SID is constant over the life of a security.\n",
    "The SID contains information about a specific security. This includes the symbol and other data specific to the SecurityType."
   ]
  },
  {
   "cell_type": "code",
   "execution_count": 23,
   "metadata": {},
   "outputs": [
    {
     "name": "stdout",
     "output_type": "stream",
     "text": [
      "Ticker: SPY. Market: USA. Security Type: Equity. Date: 1998-01-02 00:00:00\n",
      "Ticker: AAPL. Market: USA. Security Type: Equity. Date: 1998-01-02 00:00:00\n",
      "Ticker: EURUSD. Market: FXCM. Security Type: Forex. Date: None\n",
      "Ticker: USDJPY. Market: Oanda. Security Type: Forex. Date: None\n",
      "Ticker: WTICOUSD. Market: Oanda. Security Type: Cfd. Date: None\n",
      "Ticker: BTCUSD. Market: GDAX. Security Type: Crypto. Date: None\n",
      "Ticker: ED. Market: USA. Security Type: Future. Date: 2020-12-15 00:00:00\n"
     ]
    }
   ],
   "source": [
    "from AlphaStream.Models import Symbol\n",
    "string_symbols = ['SPY R735QTJ8XC9X', 'AAPL R735QTJ8XC9X', 'EURUSD 5O', 'USDJPY 8G', 'WTICOUSD 8I', 'BTCUSD XJ', 'ED XKDEAL18BYP5' ]\n",
    "for string_symbol in string_symbols:\n",
    "    symbol = Symbol(string_symbol)\n",
    "    print(f'Ticker: {symbol.Symbol}. Market: {symbol.Market}. Security Type: {symbol.SecurityType}. Date: {symbol.Date}')"
   ]
  },
  {
   "cell_type": "code",
   "execution_count": null,
   "metadata": {},
   "outputs": [],
   "source": []
  }
 ],
 "metadata": {
  "kernelspec": {
   "display_name": "Python 3",
   "language": "python",
   "name": "python3"
  },
  "language_info": {
   "codemirror_mode": {
    "name": "ipython",
    "version": 3
   },
   "file_extension": ".py",
   "mimetype": "text/x-python",
   "name": "python",
   "nbconvert_exporter": "python",
   "pygments_lexer": "ipython3",
   "version": "3.6.5"
  }
 },
 "nbformat": 4,
 "nbformat_minor": 2
}
