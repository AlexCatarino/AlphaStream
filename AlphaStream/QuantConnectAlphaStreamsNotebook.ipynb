{
 "cells": [
  {
   "cell_type": "markdown",
   "metadata": {},
   "source": [
    "![QuantConnect Logo](https://cdn.quantconnect.com/web/i/logo-small.png)\n",
    "# QuantConnect Alpha Streams\n",
    "#### Licensed Under QuantConnect Platform Service Agreement v1.0. Copyright QuantConnect 2018.\n",
    "#### For more information; see the Open API Specification of Alpha Streams: https://app.swaggerhub.com/apis/QuantConnect/Alpha/0.4"
   ]
  },
  {
   "cell_type": "markdown",
   "metadata": {},
   "source": [
    "## Introduction\n",
    "\n",
    "QuantConnect Alpha Streams allows quantiative funds to search a database of algorithm authors; and instantly license the authors' strategies (`Alpha`). The license agreements and fee structure is already prenegotiated, and the standardized backtesting and live trading infrastructure can give funds confidence in the algorithm results. Upon licensing an Alpha the insights/signals are instantly delivered to the fund in realtime."
   ]
  },
  {
   "cell_type": "markdown",
   "metadata": {},
   "source": [
    "## Terminology\n",
    " - `Alpha`     - Strategy for licensing.\n",
    " - `Author`    - QuantConnect member and creator of the Alpha. \n",
    " - `Insight`   - Trade signal from an algorithm; consisting of an asset, direction, magnitude and confidence.\n",
    " - `Project`   - Properties of the project which submitted the `Alpha` "
   ]
  },
  {
   "cell_type": "markdown",
   "metadata": {},
   "source": [
    "## SDK Demonstration\n"
   ]
  },
  {
   "cell_type": "markdown",
   "metadata": {},
   "source": [
    "### 1. Setup the SDK: Login with Client Credentials\n",
    "We have written a full abstraction and SDK for the API which you can quickly import into your investment process. To start create a new instance of the `AlphaStreamClient` with your clientId and token."
   ]
  },
  {
   "cell_type": "code",
   "execution_count": 1,
   "metadata": {},
   "outputs": [],
   "source": [
    "# Prepare the import. This step is needed of AlphaStream is not installed yet\\n\",\n",
    "try:\n",
    "    import AlphaStream\n",
    "except ImportError:\n",
    "    import os, sys\n",
    "    from os.path import dirname\n",
    "    sys.path.append(dirname(os.getcwd()))"
   ]
  },
  {
   "cell_type": "code",
   "execution_count": 2,
   "metadata": {},
   "outputs": [],
   "source": [
    "# Import Python SDK Client Library \n",
    "from AlphaStream import AlphaStreamRestClient \n",
    "\n",
    "# Define the clientId and API access token:\n",
    "clientId  = \"\"\n",
    "token     = \"\"\n",
    "\n",
    "# Create a new instance of the client module:\n",
    "client = AlphaStreamRestClient(clientId, token)"
   ]
  },
  {
   "cell_type": "markdown",
   "metadata": {},
   "source": [
    "### 2. Listing all Alpha Strategies For Licensing\n",
    "Listing all alpha ids so you can maintain a dictionary and detect programatically when a new alpha is added to the API."
   ]
  },
  {
   "cell_type": "code",
   "execution_count": 3,
   "metadata": {},
   "outputs": [
    {
     "name": "stdout",
     "output_type": "stream",
     "text": [
      "['8d86e48e694cffa981a4c1dd3', '337c632595132dea8da00e49b', '830dd81619e5559cd2e64e625', 'b84a5a6984ec51990948a9d09', '691b72877cf58da1862b721aa']\n"
     ]
    }
   ],
   "source": [
    "# List all alphas:\n",
    "print(client.GetAlphaList()[-5:])"
   ]
  },
  {
   "cell_type": "markdown",
   "metadata": {},
   "source": [
    "### 3. Searching Alpha Strategies For Licensing\n",
    "The primary aim of the Alpha Streams API is to quickly search for Alpha which matches your criteria. This criteria is unique to your fund and might include such aspects as: asset class, time horizon, risk adjusted return or market depth. Alpha Streams API aims to give you flexibility you need to locate suitable algorithms."
   ]
  },
  {
   "cell_type": "code",
   "execution_count": 4,
   "metadata": {},
   "outputs": [
    {
     "name": "stdout",
     "output_type": "stream",
     "text": [
      "Alpha: id: 5d07d02ba5e3559253480bc12 Project: 'Intraday Penny Bear' Tags : $[]\n",
      "Alpha: id: 651af28ca2fcd562275434680 Project: 'Quick Correction Exploit' Tags : $[]\n",
      "Alpha: id: bef1427ef8d91f656a6c449f3 Project: 'Leveraged Index Investing' Tags : $[]\n",
      "Alpha: id: c9f028d9f8337992c66fab0e8 Project: 'Leveraged Index Investing' Tags : $[]\n",
      "Alpha: id: d3b4eb9ad9d12bb61efc7255a Project: 'long short panics' Tags : $[]\n"
     ]
    }
   ],
   "source": [
    "# Submit Search:\n",
    "alphas = client.SearchAlphas( includedTags = ['mean reversion'], excludedTags = ['single selection'] )\n",
    "\n",
    "# Display some information on the algorithms:\n",
    "for a in alphas[:5]:\n",
    "    print(f\"Alpha: id: {a.Id} Project: '{a.Name}' Tags : ${a.Tags}\")"
   ]
  },
  {
   "cell_type": "markdown",
   "metadata": {},
   "source": [
    "#### 3.1 Create a new bid\n",
    "Once you found an interesing alpha stream, you can make a bid"
   ]
  },
  {
   "cell_type": "code",
   "execution_count": 5,
   "metadata": {},
   "outputs": [
    {
     "data": {
      "text/plain": [
       "'Bid price was successfully created.'"
      ]
     },
     "execution_count": 5,
     "metadata": {},
     "output_type": "execute_result"
    }
   ],
   "source": [
    "from datetime import datetime, timedelta\n",
    "\n",
    "client.CreateBid(\n",
    "    alphaId = 'd0fc88b1e6354fe95eb83225a',\n",
    "    bid = 3,\n",
    "    allocation = 10000,\n",
    "    period = 28,\n",
    "    good_until = datetime.utcnow() + timedelta(1)\n",
    ")"
   ]
  },
  {
   "cell_type": "markdown",
   "metadata": {},
   "source": [
    "### 4. Pull Information on an Alpha By Specific AlphaId\n",
    "You can fetch information on an alpha by its associated id with the `/alpha/{id}` API endpoint."
   ]
  },
  {
   "cell_type": "code",
   "execution_count": 6,
   "metadata": {
    "scrolled": true
   },
   "outputs": [
    {
     "name": "stdout",
     "output_type": "stream",
     "text": [
      "Alpha Id: d0fc88b1e6354fe95eb83225a\n",
      "    Project: Intraday Reversal Mean Reversion\n",
      "    ExclusiveAvailable: 1\n",
      "    Listed: 2019-02-11 02:38:05\n"
     ]
    }
   ],
   "source": [
    "# Prospective / Test Alpha Id:\n",
    "alphaId = \"d0fc88b1e6354fe95eb83225a\"\n",
    "alpha = client.GetAlphaById( alphaId )\n",
    "\n",
    "# Print out the Alpha data:\n",
    "print(f'''Alpha Id: {alpha.Id}\n",
    "    Project: {alpha.Name}\n",
    "    ExclusiveAvailable: {alpha.ExclusiveAvailable}\n",
    "    Listed: {alpha.ListedTime}''')"
   ]
  },
  {
   "cell_type": "markdown",
   "metadata": {},
   "source": [
    "### 5. Get Last 5 Insights of an Alpha\n",
    "All historical insights of an Alpha are recorded in a database. Insights are generated `in sample`, `out of sample` or in `live trading`. Using these insights you can perform your own backtests with your own fill and slippage models to see how the strategy would have performed with your execution."
   ]
  },
  {
   "cell_type": "code",
   "execution_count": 7,
   "metadata": {
    "scrolled": true
   },
   "outputs": [
    {
     "name": "stdout",
     "output_type": "stream",
     "text": [
      "2020-08-04 19:00:00 Alpha out of sample price insight for eurusd     going up over the next 60s\n",
      "2020-08-05 14:00:00 Alpha out of sample price insight for eurusd     going down over the next 18060s\n",
      "2020-08-05 17:00:00 Alpha out of sample price insight for eurusd     going up over the next 7260s\n",
      "2020-08-05 17:00:00.001100 Alpha live trading price insight for EURUSD     going up over the next 7259.999s\n",
      "2020-08-06 17:00:00 Alpha out of sample price insight for eurusd     going down over the next 7260s\n"
     ]
    }
   ],
   "source": [
    "# Request Insights for the Previously Alpha\n",
    "insights = client.GetAlphaInsights( alphaId, start = 1760 )\n",
    "\n",
    "# Take Top 5:\n",
    "for i in insights[-5:]:\n",
    "    magnitude = \"\" if i.Magnitude is None else \" by {i.Magnitude:.2%}\"\n",
    "    print(f\"{i.CreatedTime} Alpha {i.Source} {i.Type} insight for {i.Ticker:<10} going {i.Direction}{magnitude} over the next {i.Period}s\")"
   ]
  },
  {
   "cell_type": "markdown",
   "metadata": {},
   "source": [
    "### 6. Get First 5 Orders of an Alpha\n",
    "All historical orders of an Alpha are recorded in a database. Orders are generated `in sample`, `out of sample` or in `live trading`. Using these orders you can perform your own backtests with your own fill and slippage models to see how the strategy would have performed with your execution."
   ]
  },
  {
   "cell_type": "code",
   "execution_count": null,
   "metadata": {},
   "outputs": [],
   "source": [
    "orders = client.GetAlphaOrders(\"21a2a00a097117a84788c1434\", start = 0)\n",
    "for o in orders[:5]:\n",
    "    print(f'{o}\\n')"
   ]
  },
  {
   "cell_type": "markdown",
   "metadata": {},
   "source": [
    "### 7. Seach Alpha Streams by Author Details\n",
    "Knowing who created the Alpha can be an important search tool to improve your filtering. Participating Author information can be searched in a similar manner to the Alpha Search. Each supplied criteria is a logical AND on the query."
   ]
  },
  {
   "cell_type": "code",
   "execution_count": 8,
   "metadata": {},
   "outputs": [
    {
     "name": "stdout",
     "output_type": "stream",
     "text": [
      "Located 41 authors matching your criteria.\n",
      "Alpha Stream Author 2b255 is from  Virginia, US. Signed up 2016-09-28 17:20:14 and codes in C#\n",
      "Alpha Stream Author 1ba2f is from  Virginia, US. Signed up 2013-10-17 00:27:36 and codes in C#\n",
      "Alpha Stream Author f1b63 is from Ashburn, Virginia, US. Signed up 2013-06-18 09:26:03 and codes in C#\n",
      "Alpha Stream Author 49f56 is from  Virginia, US. Signed up 2014-05-09 21:10:53 and codes in C#\n",
      "Alpha Stream Author b66b9 is from  Virginia, US. Signed up 2014-08-02 10:04:21 and codes in C#\n"
     ]
    }
   ],
   "source": [
    "languages = [\"C#\"]\n",
    "\n",
    "authors = client.SearchAuthors( languages = languages, location = \"Virginia\" )\n",
    "\n",
    "print(f\"Located {len(authors)} authors matching your criteria.\")\n",
    "\n",
    "for a in authors[:5]:\n",
    "    print(f\"Alpha Stream Author {a.Id[:5]:>5} is from {a.Location}. Signed up {a.SignUpTime} and codes in {a.Language}\")"
   ]
  },
  {
   "cell_type": "markdown",
   "metadata": {},
   "source": [
    "### 8. Fetch Detailed Information on a Specific Author\n",
    "The API allows you to fetch detailed information on a specific author by the hash-id."
   ]
  },
  {
   "cell_type": "code",
   "execution_count": 9,
   "metadata": {},
   "outputs": [
    {
     "name": "stdout",
     "output_type": "stream",
     "text": [
      "Author Id: 2b255\n",
      "    Biography: This is an alpha developer profile for the QuantCo...\n",
      "    Projects: 491\n",
      "    Language: C#\n",
      "    Signed Up: 2016-09-28 17:20:14\n",
      "    Location:  Virginia, US\n"
     ]
    }
   ],
   "source": [
    "# Author to fetch profile information about:\n",
    "authorId = '2b2552a1c05f83ba4407d4c32889c367'\n",
    "\n",
    "# Submit request for more information:\n",
    "author = client.GetAuthorById(authorId)\n",
    "\n",
    "# Print out the Alpha data:\n",
    "print(f'''Author Id: {author.Id[:5]}\n",
    "    Biography: {author.Biography[:50]}...\n",
    "    Projects: {author.Projects}\n",
    "    Language: {author.Language}\n",
    "    Signed Up: {author.SignUpTime}\n",
    "    Location: {author.Location}''')"
   ]
  },
  {
   "cell_type": "markdown",
   "metadata": {},
   "source": [
    "### 9. Stream Insights from An Alpha\n",
    "Finally once analysed and subscribed to an Alpha - you can pull down the individual insights with the streaming socket connection. This is to use the insights in realtime in your fund management."
   ]
  },
  {
   "cell_type": "code",
   "execution_count": 10,
   "metadata": {
    "scrolled": true
   },
   "outputs": [
    {
     "name": "stdout",
     "output_type": "stream",
     "text": [
      "Streaming insights for 60 seconds... \n",
      "Streaming completed.\n"
     ]
    }
   ],
   "source": [
    "# Import the streaming client helper library\n",
    "from AlphaStream.Models import Insight\n",
    "from AlphaStream.AlphaStreamEventClient import AlphaStreamEventClient\n",
    "\n",
    "# Configure authentication details\n",
    "user = \"demo-api\"\n",
    "password = \"demo\"\n",
    "ipaddress = \"35.231.13.1\"\n",
    "virtualhost = \"demo-client\"\n",
    "exchange = \"QCAlphaExchange_Demo-Client\"\n",
    "alphaId = \"31ac5498164db7341b041a732\"\n",
    "\n",
    "# Subscribe to the Alpha at QuantConnect.com so we can stream the Insights\n",
    "\n",
    "# Create the streaming client tool:\n",
    "streamClient = AlphaStreamEventClient(user, password, ipaddress, virtualhost, exchange)\n",
    "\n",
    "print(\"Streaming insights for 60 seconds... \")\n",
    "\n",
    "# StreamSynchronously pulls down Insights for a minimum timeout in a blocking manner.\n",
    "for i in streamClient.StreamSynchronously( alphaId, timeout=60 ):\n",
    "    if isinstance(i, Insight):\n",
    "        print(i)\n",
    "\n",
    "print(\"Streaming completed.\")\n",
    "\n",
    "# Unsubscribe from the Alpha so we don't continue licensing it"
   ]
  },
  {
   "cell_type": "markdown",
   "metadata": {},
   "source": [
    "### 10. Stream Orders from An Alpha\n",
    "You can also pull down the individual orders with the streaming socket connection. This is to use the orders in realtime in your fund management."
   ]
  },
  {
   "cell_type": "code",
   "execution_count": 11,
   "metadata": {},
   "outputs": [
    {
     "name": "stdout",
     "output_type": "stream",
     "text": [
      "Streaming orders for 20 seconds... \n",
      "Streaming completed.\n"
     ]
    }
   ],
   "source": [
    "from AlphaStream.Models import Order\n",
    "\n",
    "# Select Alpha to stream\n",
    "alphaId = \"21a2a00a097117a84788c1434\"\n",
    "\n",
    "# Create the streaming client tool:\n",
    "streamClient = AlphaStreamEventClient(user, password, ipaddress, virtualhost, exchange)\n",
    "\n",
    "# Subscribe to the Alpha at QuantConnect.com so we can stream the Insights\n",
    "\n",
    "print(\"Streaming orders for 20 seconds... \")\n",
    "\n",
    "# StreamSynchronously pulls down Insights for a minimum timeout in a blocking manner.\n",
    "for i in streamClient.StreamSynchronously( alphaId, timeout=20 ):\n",
    "    if isinstance(i, Order):\n",
    "        print(f'{i}\\n')\n",
    "\n",
    "print(\"Streaming completed.\")\n",
    "\n",
    "# Unsubscribe from the Alpha so we don't continue licensing it"
   ]
  },
  {
   "cell_type": "markdown",
   "metadata": {},
   "source": [
    "### 11. Get Alpha Errors\n",
    "See what runtime errors the Alpha has experienced to understand its stability in live trading."
   ]
  },
  {
   "cell_type": "code",
   "execution_count": 12,
   "metadata": {},
   "outputs": [
    {
     "name": "stdout",
     "output_type": "stream",
     "text": [
      "Error at 2019-04-29 13:48:00, error message: Algorithm., stacktrace: System.Exc\n",
      "Error at 2019-05-31 14:30:01, error message: Runtime Er, stacktrace: \n"
     ]
    }
   ],
   "source": [
    "alphaId = \"c98a822257cf2087e37fddff9\"\n",
    "\n",
    "errors = client.GetAlphaErrors(alphaId, start = 0)\n",
    "\n",
    "# Take Top 5:\n",
    "for i in errors[:5]:\n",
    "    print(f\"Error at {i.Time}, error message: {i.Error[:10]}, stacktrace: {i.Stacktrace[:10]}\") "
   ]
  },
  {
   "cell_type": "markdown",
   "metadata": {},
   "source": [
    "### 12. Get the equity curve on an Alpha\n",
    "\n",
    "Get the equity curve of an Alpha, including both backtesting and live-trading. Helpful for understanding NAV correlation and visualization."
   ]
  },
  {
   "cell_type": "code",
   "execution_count": 13,
   "metadata": {
    "scrolled": false
   },
   "outputs": [
    {
     "name": "stdout",
     "output_type": "stream",
     "text": [
      "                        equity     sample\n",
      "time                                     \n",
      "2015-01-01 23:00:00  1000000.0  in sample\n",
      "2015-01-02 22:00:00   998854.3  in sample\n",
      "2015-01-04 23:00:00   998854.3  in sample\n",
      "2015-01-05 23:00:00  1001529.7  in sample\n",
      "2015-01-06 23:00:00   999041.5  in sample\n",
      "                            equity        sample\n",
      "time                                            \n",
      "2021-02-07 23:50:01  861335.748579  live trading\n",
      "2021-02-08 23:50:01  861592.496217  live trading\n",
      "2021-02-09 23:50:02  861592.496217  live trading\n",
      "2021-02-10 23:50:01  861592.496217  live trading\n",
      "2021-02-11 17:00:00  861592.496217  live trading\n"
     ]
    }
   ],
   "source": [
    "import matplotlib.pyplot as plt\n",
    "alphaId = \"d0fc88b1e6354fe95eb83225a\"\n",
    "equity = client.GetAlphaEquityCurve(alphaId)\n",
    "print(equity.head())\n",
    "print(equity.tail())"
   ]
  },
  {
   "cell_type": "code",
   "execution_count": 14,
   "metadata": {},
   "outputs": [
    {
     "data": {
      "image/png": "[encoded data removed]",
      "text/plain": [
       "<Figure size 432x288 with 1 Axes>"
      ]
     },
     "metadata": {},
     "output_type": "display_data"
    }
   ],
   "source": [
    "equity.drop('sample', axis=1).plot()\n",
    "plt.show()"
   ]
  },
  {
   "cell_type": "code",
   "execution_count": 15,
   "metadata": {},
   "outputs": [
    {
     "data": {
      "image/png": "[encoded data removed]",
      "text/plain": [
       "<Figure size 432x288 with 1 Axes>"
      ]
     },
     "metadata": {},
     "output_type": "display_data"
    }
   ],
   "source": [
    "equity.loc[equity['sample'] == 'in sample'].drop('sample', axis=1).plot()\n",
    "plt.title('Backtest Performance')\n",
    "plt.show()"
   ]
  },
  {
   "cell_type": "code",
   "execution_count": 16,
   "metadata": {},
   "outputs": [
    {
     "data": {
      "image/png": "[encoded data removed]",
      "text/plain": [
       "<Figure size 432x288 with 1 Axes>"
      ]
     },
     "metadata": {},
     "output_type": "display_data"
    }
   ],
   "source": [
    "equity.loc[equity['sample'] == 'live trading'].drop('sample', axis=1).plot()\n",
    "plt.title(\"Live Performance\")\n",
    "plt.show()"
   ]
  },
  {
   "cell_type": "markdown",
   "metadata": {},
   "source": [
    "### 13. Create a conversation thread.\n",
    "Start a conversation with the author(s) of the alpha via email. Quickly solve reconciliation issues or design automated filter questions.    "
   ]
  },
  {
   "cell_type": "code",
   "execution_count": 17,
   "metadata": {},
   "outputs": [
    {
     "data": {
      "text/plain": [
       "'Conversation thread was successfully created.'"
      ]
     },
     "execution_count": 17,
     "metadata": {},
     "output_type": "execute_result"
    }
   ],
   "source": [
    "client.CreateConversation(\n",
    "    alphaId = \"d0fc88b1e6354fe95eb83225a\",\n",
    "    email = \"you@your-company.com\",\n",
    "    message = \"Hello World!\",\n",
    "    subject = \"Alpha Conversation\",\n",
    "    cc = \"bot1@your-company.com, bot2@your-company.com, bot2@your-company.com\"\n",
    ")"
   ]
  },
  {
   "cell_type": "markdown",
   "metadata": {},
   "source": [
    "### 14. Decode Symbol string.\n",
    "Symbol represents a unique security identifier. This is made of two components, the unique SID and the Value. The value is the current ticker symbol while the SID is constant over the life of a security.\n",
    "The SID contains information about a specific security. This includes the symbol and other data specific to the SecurityType."
   ]
  },
  {
   "cell_type": "code",
   "execution_count": 18,
   "metadata": {},
   "outputs": [
    {
     "name": "stdout",
     "output_type": "stream",
     "text": [
      "Ticker: SPY. Market: USA. Security Type: Equity. Date: 1998-01-02 00:00:00\n",
      "Ticker: AAPL. Market: USA. Security Type: Equity. Date: 1998-01-02 00:00:00\n",
      "Ticker: EURUSD. Market: FXCM. Security Type: Forex. Date: None\n",
      "Ticker: USDJPY. Market: Oanda. Security Type: Forex. Date: None\n",
      "Ticker: WTICOUSD. Market: Oanda. Security Type: Cfd. Date: None\n",
      "Ticker: BTCUSD. Market: GDAX. Security Type: Crypto. Date: None\n",
      "Ticker: ED. Market: USA. Security Type: Future. Date: 2020-12-15 00:00:00\n"
     ]
    }
   ],
   "source": [
    "from AlphaStream.Models import Symbol\n",
    "string_symbols = ['SPY R735QTJ8XC9X', 'AAPL R735QTJ8XC9X', 'EURUSD 5O', 'USDJPY 8G', 'WTICOUSD 8I', 'BTCUSD XJ', 'ED XKDEAL18BYP5' ]\n",
    "for string_symbol in string_symbols:\n",
    "    symbol = Symbol(string_symbol)\n",
    "    print(f'Ticker: {symbol.Symbol}. Market: {symbol.Market}. Security Type: {symbol.SecurityType}. Date: {symbol.Date}')"
   ]
  },
  {
   "cell_type": "code",
   "execution_count": null,
   "metadata": {},
   "outputs": [],
   "source": []
  }
 ],
 "metadata": {
  "kernelspec": {
   "display_name": "Python 3",
   "language": "python",
   "name": "python3"
  },
  "language_info": {
   "codemirror_mode": {
    "name": "ipython",
    "version": 3
   },
   "file_extension": ".py",
   "mimetype": "text/x-python",
   "name": "python",
   "nbconvert_exporter": "python",
   "pygments_lexer": "ipython3",
   "version": "3.6.8"
  }
 },
 "nbformat": 4,
 "nbformat_minor": 2
}
