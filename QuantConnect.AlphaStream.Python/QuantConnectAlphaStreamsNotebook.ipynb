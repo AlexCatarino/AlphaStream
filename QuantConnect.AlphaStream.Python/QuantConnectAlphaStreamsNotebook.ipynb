{
 "cells": [
  {
   "cell_type": "markdown",
   "metadata": {},
   "source": [
    "![QuantConnect Logo](https://cdn.quantconnect.com/web/i/logo-small.png)\n",
    "# QuantConnect Alpha Streams\n",
    "#### Licensed Under QuantConnect Platform Service Agreement v1.0. Copyright QuantConnect 2018.\n",
    "#### For more information; see the Open API Specification of Alpha Streams: https://app.swaggerhub.com/apis/QuantConnect/Alpha/0.4"
   ]
  },
  {
   "cell_type": "markdown",
   "metadata": {},
   "source": [
    "## Introduction\n",
    "\n",
    "QuantConnect Alpha Streams allows quantiative funds to search a database of algorithm authors; and instantly license the authors' strategies (`Alpha`). The license agreements and fee structure is already prenegotiated, and the standardized backtesting and live trading infrastructure can give funds confidence in the algorithm results. Upon licensing an Alpha the insights/signals are instantly delivered to the fund in realtime."
   ]
  },
  {
   "cell_type": "markdown",
   "metadata": {},
   "source": [
    "## Terminology\n",
    " - `Alpha`     - Strategy for licensing.\n",
    " - `Author`    - QuantConnect member and creator of the Alpha. \n",
    " - `Insight`   - Trade signal from an algorithm; consisting of an asset, direction, magnitude and confidence.\n",
    " - `Project`   - Properties of the project which submitted the `Alpha` "
   ]
  },
  {
   "cell_type": "markdown",
   "metadata": {},
   "source": [
    "## SDK Demonstration\n"
   ]
  },
  {
   "cell_type": "markdown",
   "metadata": {},
   "source": [
    "### 1. Setup the SDK: Login with Client Credentials\n",
    "We have written a full abstraction and SDK for the API which you can quickly import into your investment process. To start create a new instance of the `AlphaStreamClient` with your clientId and token."
   ]
  },
  {
   "cell_type": "code",
   "execution_count": 53,
   "metadata": {
    "collapsed": true
   },
   "outputs": [],
   "source": [
    "# Import Python SDK Client Library \n",
    "from AlphaStreamClient import AlphaStreamClient \n",
    "\n",
    "# Define the clientId and API access token:\n",
    "clientId    = \"c7bd966e930c4b15b2ec13eb0d6170d9\"\n",
    "token       = \"7030e89cfcc1948f4f93e91edd93d6f687c737844a6969d99d609a78f8d0a5c4091ef11f31c4c0e9cccacefe36ff4c2ad0e15525a85c65b0eafa34064cd11b1c\"\n",
    "\n",
    "# Create a new instance of the client module:\n",
    "client = AlphaStreamClient(clientId, token)"
   ]
  },
  {
   "cell_type": "markdown",
   "metadata": {},
   "source": [
    "### 2. Searching Alpha Strategies For Licensing\n",
    "The primary aim of the Alpha Streams API is to quickly search for Alpha which matches your criteria. This criteria is unique to your fund and might include such aspects as: asset class, time horizon, risk adjusted return or market depth. Alpha Streams API aims to give you flexibility you need to locate suitable algorithms."
   ]
  },
  {
   "cell_type": "code",
   "execution_count": 55,
   "metadata": {},
   "outputs": [
    {
     "name": "stdout",
     "output_type": "stream",
     "text": [
      "Alpha: id: 130f38132f7e865887709d30b Project: 'Quintessence Alpha' Fee: $11,700.00/mo\n",
      "Alpha: id: 392a40ccab3740287a1c30bc6 Project: 'DropShot Alpha Stream 40-50mm' Fee: $13,000.00/mo\n",
      "Alpha: id: baeb606dd0d7de584f5e2bf7b Project: 'Hour Intraday Alpha Live' Fee: $19,500.00/mo\n"
     ]
    }
   ],
   "source": [
    "# Import Alpha Search Request Requirements\n",
    "from Requests.SearchAlphasRequest import SearchAlphasRequest\n",
    "\n",
    "# Define search criteria\n",
    "rate = 1000\n",
    "\n",
    "# Submit Search:\n",
    "alphas = client.SearchAlphas( sharedFeeMinimum = rate )\n",
    "\n",
    "# Display some information on the algorithms:\n",
    "for a in alphas:\n",
    "    print(f\"Alpha: id: {a.Id} Project: '{a.Project.Name}' Fee: ${a.SharedSubscriptionFee:,.2f}/mo\")"
   ]
  },
  {
   "cell_type": "markdown",
   "metadata": {},
   "source": [
    "### 3. Pull Information on an Alpha By Specific AlphaId\n",
    "You can fetch information on an alpha by its associated id with the `/alpha/{id}` API endpoint."
   ]
  },
  {
   "cell_type": "code",
   "execution_count": 56,
   "metadata": {
    "scrolled": true
   },
   "outputs": [
    {
     "name": "stdout",
     "output_type": "stream",
     "text": [
      "Alpha Id: 392a40ccab3740287a1c30bc6\n",
      "    Project: DropShot Alpha Stream 40-50mm\n",
      "    ExclusiveAvailable: True\n",
      "    Listed: 2018-07-23 16:53:04\n"
     ]
    }
   ],
   "source": [
    "# Prospective / Test Alpha Id:\n",
    "alphaId = \"392a40ccab3740287a1c30bc6\"\n",
    "alpha = client.GetAlphaById( alphaId )\n",
    "\n",
    "# Print out the Alpha data:\n",
    "print(f'''Alpha Id: {alpha.Id}\n",
    "    Project: {alpha.Project.Name}\n",
    "    ExclusiveAvailable: {alpha.ExclusiveAvailable}\n",
    "    Listed: {alpha.ListedTime}''')"
   ]
  },
  {
   "cell_type": "markdown",
   "metadata": {},
   "source": [
    "### 4. Get Last 5 Insights of an Alpha\n",
    "All historical insights of an Alpha are recorded in a database. Insights are generated `in sample`, `out of sample` or in `live trading`. Using these insights you can perform your own backtests with your own fill and slippage models to see how the strategy would have performed with your execution."
   ]
  },
  {
   "cell_type": "code",
   "execution_count": 57,
   "metadata": {},
   "outputs": [
    {
     "name": "stdout",
     "output_type": "stream",
     "text": [
      "2018-09-06 19:45:00.005400 Alpha live trading price insight for EFA        going up over the next 86400s\n",
      "2018-09-06 19:45:00.005400 Alpha live trading price insight for VGK        going up over the next 86400s\n",
      "2018-09-06 19:45:01.003400 Alpha live trading price insight for EWJ        going up over the next 86400s\n",
      "2018-09-07 19:45:00.010900 Alpha live trading price insight for EFA        going up over the next 86400s\n",
      "2018-09-07 19:45:00.010900 Alpha live trading price insight for EWJ        going up over the next 86400s\n"
     ]
    }
   ],
   "source": [
    "# Import the Insights Request Class:\n",
    "from Requests.GetAlphaInsightsRequest import GetAlphaInsightsRequest\n",
    "\n",
    "# Request Insights for the Previously Alpha\n",
    "insights = client.GetAlphaInsights( alphaId, start = 11600 )\n",
    "\n",
    "# Take Top 5:\n",
    "for i in insights[:5]:\n",
    "    magnitude = \"\" if i.Magnitude is None else \" by {i.Magnitude:.2%}\"\n",
    "    print(f\"{i.CreatedTime} Alpha {i.Source} {i.Type} insight for {i.Ticker:<10} going {i.Direction}{magnitude} over the next {i.Period}s\")"
   ]
  },
  {
   "cell_type": "markdown",
   "metadata": {
    "scrolled": true
   },
   "source": [
    "### 5. Seach Alpha Streams by Author Details\n",
    "Knowing who created the Alpha can be an important search tool to improve your filtering. Participating Author information can be searched in a similar manner to the Alpha Search. Each supplied criteria is a logical AND on the query.\n"
   ]
  },
  {
   "cell_type": "code",
   "execution_count": 59,
   "metadata": {},
   "outputs": [
    {
     "name": "stdout",
     "output_type": "stream",
     "text": [
      "Located 100 authors matching your criteria.\n",
      "Alpha Stream Author 01365 is from  Banten, ID. Signed up 2018-01-02 09:46:53 and codes in Py\n",
      "Alpha Stream Author 042da is from Araucária, Parana, BR. Signed up 2018-03-30 02:55:36 and codes in Py\n",
      "Alpha Stream Author 058bd is from Porto Alegre, Rio Grande Do Sul, BR. Signed up 2018-08-20 14:39:53 and codes in Py\n",
      "Alpha Stream Author 06f71 is from San Antonio, Texas, US. Signed up 2017-08-23 15:00:42 and codes in Py\n",
      "Alpha Stream Author 06fda is from Union City, New Jersey, US. Signed up 2017-12-05 13:47:03 and codes in Py\n"
     ]
    }
   ],
   "source": [
    "languages = [\"Py\"]\n",
    "\n",
    "# Authors paginated by 100 at a time.\n",
    "authors = client.SearchAuthors( languages = languages )\n",
    "\n",
    "print(f\"Located {len(authors)} authors matching your criteria.\")\n",
    "\n",
    "for a in authors[:5]:\n",
    "    print(f\"Alpha Stream Author {a.Id[:5]:>5} is from {a.Location}. Signed up {a.SignUpTime} and codes in {a.Language}\")"
   ]
  },
  {
   "cell_type": "code",
   "execution_count": 60,
   "metadata": {},
   "outputs": [
    {
     "data": {
      "image/png": "[encoded data removed]",
      "text/plain": [
       "<matplotlib.figure.Figure at 0x239ade94a90>"
      ]
     },
     "metadata": {},
     "output_type": "display_data"
    }
   ],
   "source": [
    "%matplotlib inline\n",
    "import matplotlib.pyplot as plt\n",
    "sizes = [len(client.SearchAuthors( languages = \"Py\")), len(client.SearchAuthors( languages = \"C#\"))]\n",
    "plt.figure(figsize=(10,5))\n",
    "plt.pie(sizes, explode=(0.1, 0), labels= ['Python', 'C#'], colors=['lightgrey', 'orange'], autopct='%1.1f%%', startangle=140)\n",
    "plt.axis('equal')\n",
    "plt.show()"
   ]
  },
  {
   "cell_type": "markdown",
   "metadata": {},
   "source": [
    "### 6. Fetch Detailed Information on a Specific Author\n",
    "The API allows you to fetch detailed information on a specific author by the hash-id."
   ]
  },
  {
   "cell_type": "code",
   "execution_count": 62,
   "metadata": {},
   "outputs": [
    {
     "name": "stdout",
     "output_type": "stream",
     "text": [
      "Author Id: 1f483\n",
      "    Biography: I'm part of the QuantConnect Engineering team. I h...\n",
      "    Projects: 544\n",
      "    Language: C#\n",
      "    Signed Up: 2015-03-28 20:10:29\n",
      "    Location: Southampton, Pennsylvania, US\n"
     ]
    }
   ],
   "source": [
    "# Author to fetch profile information about:\n",
    "authorId = \"1f48359f6c6cbad65b091232eaae73ce\"\n",
    "\n",
    "# Submit request for more information:\n",
    "author = client.GetAuthorById(authorId)\n",
    "\n",
    "# Print out the Alpha data:\n",
    "print(f'''Author Id: {author.Id[:5]}\n",
    "    Biography: {author.Biography[:50]}...\n",
    "    Projects: {author.Projects}\n",
    "    Language: {author.Language}\n",
    "    Signed Up: {author.SignUpTime}\n",
    "    Location: {author.Location}''')"
   ]
  },
  {
   "cell_type": "markdown",
   "metadata": {},
   "source": [
    "### 7. Subscribing and Unsubscribing from An Alpha\n",
    "Once you've located an Alpha you need to subscribe to it to recieve its streaming insights. Alphas have a monthly licensing fee which is engaged once you request its signals. There is a minimum fee equivalent to 7 days of licensing from an Alpha. Sending a subscription request starts delivery of the signals to the fund-exchange."
   ]
  },
  {
   "cell_type": "code",
   "execution_count": 66,
   "metadata": {},
   "outputs": [
    {
     "name": "stdout",
     "output_type": "stream",
     "text": [
      "Stopped Subscription to 5443d94e213604f4fefbab185: True\n"
     ]
    }
   ],
   "source": [
    "# Alpha to subscribe to:\n",
    "alphaId = \"5443d94e213604f4fefbab185\"\n",
    "\n",
    "unsubscribeResult = client.Unsubscribe( alphaId )\n",
    "print(f\"Stopped Subscription to {alphaId}: {unsubscribeResult}\")"
   ]
  },
  {
   "cell_type": "code",
   "execution_count": 65,
   "metadata": {},
   "outputs": [
    {
     "name": "stdout",
     "output_type": "stream",
     "text": [
      "Started Subscription to 5443d94e213604f4fefbab185: True\n"
     ]
    }
   ],
   "source": [
    "subscribeResult = client.Subscribe( alphaId )\n",
    "print(f\"Started Subscription to {alphaId}: {subscribeResult}\")"
   ]
  },
  {
   "cell_type": "markdown",
   "metadata": {},
   "source": [
    "### 8. Stream Insights from An Alpha\n",
    "Finally once analysed and subscribed to an Alpha - you can pull down the individual insights with the streaming socket connection. This is to use the insights in realtime in your fund management."
   ]
  },
  {
   "cell_type": "code",
   "execution_count": 67,
   "metadata": {},
   "outputs": [
    {
     "name": "stdout",
     "output_type": "stream",
     "text": [
      "Streaming insights for 5 seconds... \n",
      "Streaming completed.\n"
     ]
    }
   ],
   "source": [
    "# Import the streaming client helper library\n",
    "from AlphaInsightsStreamClient import AlphaInsightsStreamClient\n",
    "\n",
    "# Configure authentication details\n",
    "ipaddress = \"35.231.13.1\"\n",
    "user = \"demo-api\"\n",
    "password = \"demo\"\n",
    "virtualhost = \"demo-client\"\n",
    "exchange = \"QCAlphaExchange_Demo-Client\"\n",
    "queueName = alphaId\n",
    "routingKey = alphaId\n",
    "\n",
    "# Create the streaming client tool:\n",
    "streamClient = AlphaInsightsStreamClient(user, password, ipaddress, virtualhost, exchange)\n",
    "\n",
    "print(\"Streaming insights for 5 seconds... \")\n",
    "\n",
    "# StreamSynchronously pulls down Insights for a minimum timeout in a blocking manner.\n",
    "for i in streamClient.StreamSynchronously( alphaId, timeout=10 ):\n",
    "    print(f\"{i.Created} Alpha {i.Source} {i.Type} insight for {i.Ticker:<10} going {i.Direction} by {i.Magnitude:.2%} over the next {i.Period}s\")\n",
    "\n",
    "print(\"Streaming completed.\")\n",
    "    "
   ]
  },
  {
   "cell_type": "markdown",
   "metadata": {},
   "source": [
    "### 9. Get Alpha Prices\n",
    "The history of alpha prices can be requested via the API. This is recorded as a bid price of a fund, and asking price of the author. Each class of price is recorded."
   ]
  },
  {
   "cell_type": "code",
   "execution_count": 68,
   "metadata": {},
   "outputs": [
    {
     "name": "stdout",
     "output_type": "stream",
     "text": [
      "Ask price from 2018-07-23 16:53:04, shared $104,000.00 and the exclusive $104,000.00\n",
      "Ask price from 2018-08-05 16:25:26, shared $13,000.00 and the exclusive $13,000.00\n",
      "Ask price from 2018-08-09 04:19:29, shared $13,000.00 and the exclusive $32,500.00\n"
     ]
    }
   ],
   "source": [
    "# Fetch asking prices for this alpha:\n",
    "alphaId = \"392a40ccab3740287a1c30bc6\"\n",
    "prices = client.GetAlphaPrices(alphaId, start = 0)\n",
    "\n",
    "# Take Top 5:\n",
    "for i in prices[:10]:\n",
    "    print(f\"{i.PriceType.title()} price from {i.Time}, shared ${i.SharedPrice:,.2f} and the exclusive ${i.ExclusivePrice:,.2f}\")"
   ]
  },
  {
   "cell_type": "markdown",
   "metadata": {},
   "source": [
    "### 10. Get Alpha Runtime Errors\n",
    "Funds need access to the Alpha Streams runtime errors in a production system. Using the Alpha Streams Errors endpoint we record the error messages and stack traces from all the failures of an algorithm. This is used for the Author to debug their strategy and for the funds to ensure production investments are safe."
   ]
  },
  {
   "cell_type": "code",
   "execution_count": 69,
   "metadata": {},
   "outputs": [
    {
     "name": "stdout",
     "output_type": "stream",
     "text": [
      "Error at 2018-09-22 00:07:52, error message: Algorithm.Initialize() Error: Execution Security Error: Operation timed out - 0.25 minutes max. Chec..., stacktrace:   at QuantConnect.Isolator.ExecuteWithTimeLimit (System.TimeSpan timeSpan, System.Func`1[TResult] wi...\n",
      "Error at 2018-09-22 00:07:54, error message: Algorithm.Initialize() Error: Execution Security Error: Operation timed out - 0.25 minutes max. Chec..., stacktrace: ...\n",
      "Error at 2018-09-22 00:08:49, error message: Algorithm.Initialize() Error: Execution Security Error: Operation timed out - 0.25 minutes max. Chec..., stacktrace:   at QuantConnect.Isolator.ExecuteWithTimeLimit (System.TimeSpan timeSpan, System.Func`1[TResult] wi...\n",
      "Error at 2018-09-22 00:08:54, error message: Algorithm.Initialize() Error: Execution Security Error: Operation timed out - 0.25 minutes max. Chec..., stacktrace: ...\n"
     ]
    }
   ],
   "source": [
    "# Fetch Alpha Runtime Errors\n",
    "alphaId = \"392a40ccab3740287a1c30bc6\"\n",
    "errors = client.GetAlphaErrors(alphaId, start = 0)\n",
    "\n",
    "# Take Top 5:\n",
    "for i in errors[:10]:\n",
    "    print(f\"Error at {i.Time}, error message: {i.Error[:100]}..., stacktrace: {i.Stacktrace[:100]}...\") "
   ]
  },
  {
   "cell_type": "code",
   "execution_count": null,
   "metadata": {
    "collapsed": true
   },
   "outputs": [],
   "source": []
  }
 ],
 "metadata": {
  "kernelspec": {
   "display_name": "Python 3",
   "language": "python",
   "name": "python3"
  },
  "language_info": {
   "codemirror_mode": {
    "name": "ipython",
    "version": 3
   },
   "file_extension": ".py",
   "mimetype": "text/x-python",
   "name": "python",
   "nbconvert_exporter": "python",
   "pygments_lexer": "ipython3",
   "version": "3.6.1"
  }
 },
 "nbformat": 4,
 "nbformat_minor": 2
}
