{
 "cells": [
  {
   "cell_type": "markdown",
   "metadata": {},
   "source": [
    "![QuantConnect Logo](https://cdn.quantconnect.com/web/i/logo-small.png)\n",
    "# QuantConnect Alpha Streams\n",
    "#### Licensed Under QuantConnect Platform Service Agreement v1.0. Copyright QuantConnect 2018.\n",
    "#### For more information; see the Open API Specification of Alpha Streams: https://app.swaggerhub.com/apis/QuantConnect/Alpha/0.4"
   ]
  },
  {
   "cell_type": "markdown",
   "metadata": {},
   "source": [
    "## Introduction\n",
    "\n",
    "QuantConnect Alpha Streams allows quantiative funds to search a database of algorithm authors; and instantly license the authors' strategies (`Alpha`). The license agreements and fee structure is already prenegotiated, and the standardized backtesting and live trading infrastructure can give funds confidence in the algorithm results. Upon licensing an Alpha the insights/signals are instantly delivered to the fund in realtime."
   ]
  },
  {
   "cell_type": "markdown",
   "metadata": {},
   "source": [
    "## Terminology\n",
    " - `Alpha`     - Strategy for licensing.\n",
    " - `Author`    - QuantConnect member and creator of the Alpha. \n",
    " - `Insight`   - Trade signal from an algorithm; consisting of an asset, direction, magnitude and confidence.\n",
    " - `Project`   - Properties of the project which submitted the `Alpha` "
   ]
  },
  {
   "cell_type": "markdown",
   "metadata": {},
   "source": [
    "## SDK Demonstration\n"
   ]
  },
  {
   "cell_type": "markdown",
   "metadata": {},
   "source": [
    "### 1. Setup the SDK: Login with Client Credentials\n",
    "We have written a full abstraction and SDK for the API which you can quickly import into your investment process. To start create a new instance of the `AlphaStreamClient` with your clientId and token."
   ]
  },
  {
   "cell_type": "code",
   "execution_count": 1,
   "metadata": {},
   "outputs": [],
   "source": [
    "# Import Python SDK Client Library \n",
    "from AlphaStreamClient import AlphaStreamClient \n",
    "\n",
    "# Define the clientId and API access token:\n",
    "clientId  = \"c7bd966e930c4b15b2ec13eb0d6170d9\"\n",
    "token     = \"7030e89cfcc1948f4f93e91edd93d6f687c737844a6969d99d609a78f8d0a5c4091ef11f31c4c0e9cccacefe36ff4c2ad0e15525a85c65b0eafa34064cd11b1c\"\n",
    "\n",
    "# Define the QuantConnect user id and token (this is needed to perform backtest in QuantConnect.com)\n",
    "userId    = 484\n",
    "userToken = '90d636983c418d8f0e3498d646668554'\n",
    "\n",
    "# Create a new instance of the client module:\n",
    "client = AlphaStreamClient(clientId, token, userId, userToken)"
   ]
  },
  {
   "cell_type": "markdown",
   "metadata": {},
   "source": [
    "### 2. Listing all Alpha Strategies For Licensing\n",
    "Listing all alpha ids so you can maintain a dictionary and detect programatically when a new alpha is added to the API."
   ]
  },
  {
   "cell_type": "code",
   "execution_count": 2,
   "metadata": {},
   "outputs": [
    {
     "name": "stdout",
     "output_type": "stream",
     "text": [
      "['118d1cbc375709792ea4d823a', '2d3db6308e0086b2dd28c0512', '5443d94e213604f4fefbab185']\n"
     ]
    }
   ],
   "source": [
    "# List all alphas:\n",
    "print(client.GetAlphaList())"
   ]
  },
  {
   "cell_type": "markdown",
   "metadata": {},
   "source": [
    "### 3. Searching Alpha Strategies For Licensing\n",
    "The primary aim of the Alpha Streams API is to quickly search for Alpha which matches your criteria. This criteria is unique to your fund and might include such aspects as: asset class, time horizon, risk adjusted return or market depth. Alpha Streams API aims to give you flexibility you need to locate suitable algorithms."
   ]
  },
  {
   "cell_type": "code",
   "execution_count": 3,
   "metadata": {},
   "outputs": [],
   "source": [
    "# Import Alpha Search Request Requirements\n",
    "from Requests.SearchAlphasRequest import SearchAlphasRequest\n",
    "\n",
    "# Define search criteria\n",
    "projectId = 830918\n",
    "\n",
    "# Submit Search:\n",
    "alphas = client.SearchAlphas( projectId = projectId, sharedFeeMinimum = 10 )\n",
    "\n",
    "# Display some information on the algorithms:\n",
    "for a in alphas:\n",
    "    print(f\"Alpha: id: {a.Id} Project: '{a.Project.Name}' Fee: ${a.SharedSubscriptionFee:,.2f}/mo\")"
   ]
  },
  {
   "cell_type": "code",
   "execution_count": 4,
   "metadata": {},
   "outputs": [
    {
     "name": "stdout",
     "output_type": "stream",
     "text": [
      "Alpha: id: 2d3db6308e0086b2dd28c0512 Project: 'Alpha/Rebalancing Leveraged ETF Alpha' Fee: $39.00/mo Tags : $['author trading']\n"
     ]
    }
   ],
   "source": [
    "# Import Alpha Search Request Requirements\n",
    "from Requests.SearchAlphasRequest import SearchAlphasRequest\n",
    "\n",
    "# Submit Search:\n",
    "alphas = client.SearchAlphas( includedTags = ['author trading'], excludedTags = ['cool'] )\n",
    "\n",
    "# Display some information on the algorithms:\n",
    "for a in alphas:\n",
    "    print(f\"Alpha: id: {a.Id} Project: '{a.Project.Name}' Fee: ${a.SharedSubscriptionFee:,.2f}/mo Tags : ${a.Tags}\")"
   ]
  },
  {
   "cell_type": "markdown",
   "metadata": {},
   "source": [
    "#### 3.1 Verify the alpha prices and create a new bid\n",
    "Once you found an interesing alpha stream, you can retrieve its recent price history and make a bid"
   ]
  },
  {
   "cell_type": "code",
   "execution_count": 5,
   "metadata": {},
   "outputs": [
    {
     "name": "stdout",
     "output_type": "stream",
     "text": [
      "Ask price from 2018-08-15 23:30:34: Shared $39.00.\n",
      "Bid price from 2018-11-24 01:08:26: Shared $9.99.\n",
      "Bid price from 2018-11-24 01:08:31: Shared $9.99.\n",
      "Bid price from 2018-11-27 02:42:42: Shared $9.99.\n",
      "Bid price from 2018-11-27 02:43:12: Shared $9.99.\n",
      "Bid price from 2018-11-28 01:31:49: Shared $9.99.\n",
      "Ask price from 2018-11-28 19:08:08: Shared $39.00.\n",
      "Ask price from 2018-11-28 20:23:17: Shared $9.99.\n",
      "Ask price from 2018-11-28 20:24:07: Shared $39.00.\n",
      "Ask price from 2018-11-28 20:26:06: Shared $9.99.\n",
      "Bid price from 2018-11-29 19:03:46: Shared $6.99.\n"
     ]
    }
   ],
   "source": [
    "prices = client.GetAlphaQuotePrices('5443d94e213604f4fefbab185')\n",
    "for price in prices:\n",
    "    print(price)"
   ]
  },
  {
   "cell_type": "code",
   "execution_count": 6,
   "metadata": {},
   "outputs": [
    {
     "data": {
      "text/plain": [
       "'Bid price was successfully created.'"
      ]
     },
     "execution_count": 6,
     "metadata": {},
     "output_type": "execute_result"
    }
   ],
   "source": [
    "from datetime import datetime, timedelta\n",
    "\n",
    "client.CreateBid(\n",
    "    alphaId = '5443d94e213604f4fefbab185',\n",
    "    shared = 7,\n",
    "    good_until = datetime.utcnow() + timedelta(1)\n",
    ")"
   ]
  },
  {
   "cell_type": "markdown",
   "metadata": {},
   "source": [
    "### 4. Pull Information on an Alpha By Specific AlphaId\n",
    "You can fetch information on an alpha by its associated id with the `/alpha/{id}` API endpoint."
   ]
  },
  {
   "cell_type": "code",
   "execution_count": 7,
   "metadata": {
    "scrolled": true
   },
   "outputs": [
    {
     "name": "stdout",
     "output_type": "stream",
     "text": [
      "Alpha Id: 5443d94e213604f4fefbab185\n",
      "    Project: Alpha/Forex Calendar Alpha v1.01\n",
      "    ExclusiveAvailable: True\n",
      "    Listed: 2018-08-15 23:30:34\n"
     ]
    }
   ],
   "source": [
    "# Prospective / Test Alpha Id:\n",
    "alphaId = \"5443d94e213604f4fefbab185\"\n",
    "alpha = client.GetAlphaById( alphaId )\n",
    "\n",
    "# Print out the Alpha data:\n",
    "print(f'''Alpha Id: {alpha.Id}\n",
    "    Project: {alpha.Project.Name}\n",
    "    ExclusiveAvailable: {alpha.ExclusiveAvailable}\n",
    "    Listed: {alpha.ListedTime}''')"
   ]
  },
  {
   "cell_type": "markdown",
   "metadata": {},
   "source": [
    "### 5. Get Last 5 Insights of an Alpha\n",
    "All historical insights of an Alpha are recorded in a database. Insights are generated `in sample`, `out of sample` or in `live trading`. Using these insights you can perform your own backtests with your own fill and slippage models to see how the strategy would have performed with your execution."
   ]
  },
  {
   "cell_type": "code",
   "execution_count": 8,
   "metadata": {},
   "outputs": [
    {
     "name": "stdout",
     "output_type": "stream",
     "text": [
      "2008-08-15 19:45:00 Alpha in sample price insight for xlf        going up over the next 86400s\n",
      "2009-09-10 19:45:00 Alpha in sample price insight for xlf        going up over the next 86400s\n",
      "2012-02-27 20:45:00 Alpha in sample price insight for xlf        going up over the next 86400s\n",
      "2015-08-25 19:45:00 Alpha in sample price insight for xlf        going up over the next 86400s\n",
      "2011-09-22 19:45:00 Alpha in sample price insight for xlf        going up over the next 86400s\n",
      "2009-03-04 20:45:00 Alpha in sample price insight for xlf        going up over the next 86400s\n",
      "2014-04-08 19:45:00 Alpha in sample price insight for xlf        going up over the next 86400s\n",
      "2018-06-15 19:45:00 Alpha in sample price insight for xlf        going up over the next 86400s\n",
      "2012-05-30 19:45:00 Alpha in sample price insight for xlf        going up over the next 86400s\n",
      "2014-05-16 19:45:00 Alpha in sample price insight for xlf        going up over the next 86400s\n"
     ]
    }
   ],
   "source": [
    "# Import the Insights Request Class:\n",
    "from Requests.GetAlphaInsightsRequest import GetAlphaInsightsRequest\n",
    "\n",
    "# Request Insights for the Previously Alpha\n",
    "insights = client.GetAlphaInsights( alphaId, start = 10000 )\n",
    "\n",
    "# Take Top 5:\n",
    "for i in insights[:10]:\n",
    "    magnitude = \"\" if i.Magnitude is None else \" by {i.Magnitude:.2%}\"\n",
    "    print(f\"{i.CreatedTime} Alpha {i.Source} {i.Type} insight for {i.Ticker:<10} going {i.Direction}{magnitude} over the next {i.Period}s\")"
   ]
  },
  {
   "cell_type": "markdown",
   "metadata": {},
   "source": [
    "### 6. Seach Alpha Streams by Author Details\n",
    "Knowing who created the Alpha can be an important search tool to improve your filtering. Participating Author information can be searched in a similar manner to the Alpha Search. Each supplied criteria is a logical AND on the query."
   ]
  },
  {
   "cell_type": "code",
   "execution_count": 9,
   "metadata": {},
   "outputs": [
    {
     "name": "stdout",
     "output_type": "stream",
     "text": [
      "Located 5 authors matching your criteria.\n",
      "Alpha Stream Author 1675c is from New York, New York, US. Signed up 2018-01-30 23:50:50 and codes in Py\n",
      "Alpha Stream Author 3c516 is from New York, New York, US. Signed up 2018-04-02 03:28:59 and codes in Py\n",
      "Alpha Stream Author 708e6 is from New York, New York, US. Signed up 2017-04-13 02:22:31 and codes in Py\n",
      "Alpha Stream Author 73cb0 is from Hicksville, New York, US. Signed up 2018-04-09 22:29:27 and codes in Py\n",
      "Alpha Stream Author ac037 is from New York, New York, US. Signed up 2016-04-06 19:13:57 and codes in Py\n"
     ]
    }
   ],
   "source": [
    "languages = [\"Py\"]\n",
    "\n",
    "authors = client.SearchAuthors( languages = languages, location = \"New York\" )\n",
    "\n",
    "print(f\"Located {len(authors)} authors matching your criteria.\")\n",
    "\n",
    "for a in authors[:5]:\n",
    "    print(f\"Alpha Stream Author {a.Id[:5]:>5} is from {a.Location}. Signed up {a.SignUpTime} and codes in {a.Language}\")"
   ]
  },
  {
   "cell_type": "code",
   "execution_count": 10,
   "metadata": {},
   "outputs": [
    {
     "data": {
      "image/png": "[encoded data removed]",
      "text/plain": [
       "<Figure size 720x360 with 1 Axes>"
      ]
     },
     "metadata": {},
     "output_type": "display_data"
    }
   ],
   "source": [
    "%matplotlib inline\n",
    "import matplotlib.pyplot as plt\n",
    "sizes = [len(client.SearchAuthors( languages = \"Py\")), len(client.SearchAuthors( languages = \"C#\"))]\n",
    "plt.figure(figsize=(10,5))\n",
    "plt.pie(sizes, explode=(0.1, 0), labels= ['Python', 'C#'], colors=['lightgrey', 'orange'], autopct='%1.1f%%', startangle=140)\n",
    "plt.axis('equal')\n",
    "plt.show()"
   ]
  },
  {
   "cell_type": "markdown",
   "metadata": {},
   "source": [
    "### 7. Fetch Detailed Information on a Specific Author\n",
    "The API allows you to fetch detailed information on a specific author by the hash-id."
   ]
  },
  {
   "cell_type": "code",
   "execution_count": 11,
   "metadata": {},
   "outputs": [
    {
     "name": "stdout",
     "output_type": "stream",
     "text": [
      "Author Id: 1f483\n",
      "    Biography: I'm part of the QuantConnect Engineering team. I h...\n",
      "    Projects: 265\n",
      "    Language: C#\n",
      "    Signed Up: 2015-03-28 20:10:29\n",
      "    Location: Southampton, Pennsylvania, US\n"
     ]
    }
   ],
   "source": [
    "# Author to fetch profile information about:\n",
    "authorId = \"1f48359f6c6cbad65b091232eaae73ce\"\n",
    "\n",
    "# Submit request for more information:\n",
    "author = client.GetAuthorById(authorId)\n",
    "\n",
    "# Print out the Alpha data:\n",
    "print(f'''Author Id: {author.Id[:5]}\n",
    "    Biography: {author.Biography[:50]}...\n",
    "    Projects: {author.Projects}\n",
    "    Language: {author.Language}\n",
    "    Signed Up: {author.SignUpTime}\n",
    "    Location: {author.Location}''')"
   ]
  },
  {
   "cell_type": "markdown",
   "metadata": {},
   "source": [
    "### 8. Subscribing and Unsubscribing from An Alpha\n",
    "Once you've located an Alpha you need to subscribe to it to recieve its streaming insights. Alphas have a monthly licensing fee which is engaged once you request its signals. There is a minimum fee equivalent to 7 days of licensing from an Alpha. Sending a subscription request starts delivery of the signals to the fund-exchange."
   ]
  },
  {
   "cell_type": "code",
   "execution_count": null,
   "metadata": {},
   "outputs": [],
   "source": [
    "# Alpha to subscribe to:\n",
    "alphaId = \"392a40ccab3740287a1c30bc6\"\n",
    "\n",
    "unsubscribeResult = client.Unsubscribe( alphaId )\n",
    "print(f\"Stopped Subscription to {alphaId}: {unsubscribeResult}\")"
   ]
  },
  {
   "cell_type": "code",
   "execution_count": null,
   "metadata": {},
   "outputs": [],
   "source": [
    "subscribeResult = client.Subscribe( alphaId )\n",
    "print(f\"Started Subscription to {alphaId}: {subscribeResult}\")"
   ]
  },
  {
   "cell_type": "markdown",
   "metadata": {},
   "source": [
    "### 9. Stream Insights from An Alpha\n",
    "Finally once analysed and subscribed to an Alpha - you can pull down the individual insights with the streaming socket connection. This is to use the insights in realtime in your fund management."
   ]
  },
  {
   "cell_type": "code",
   "execution_count": null,
   "metadata": {},
   "outputs": [],
   "source": [
    "# Import the streaming client helper library\n",
    "from AlphaInsightsStreamClient import AlphaInsightsStreamClient\n",
    "\n",
    "# Configure authentication details\n",
    "ipaddress = \"35.231.13.1\"\n",
    "user = \"demo-api\"\n",
    "password = \"demo\"\n",
    "virtualhost = \"demo-client\"\n",
    "exchange = \"QCAlphaExchange_Demo-Client\"\n",
    "queueName = alphaId\n",
    "routingKey = alphaId\n",
    "\n",
    "# Create the streaming client tool:\n",
    "streamClient = AlphaInsightsStreamClient(user, password, ipaddress, virtualhost, exchange)\n",
    "\n",
    "print(\"Streaming insights for 5 seconds... \")\n",
    "\n",
    "# StreamSynchronously pulls down Insights for a minimum timeout in a blocking manner.\n",
    "for i in streamClient.StreamSynchronously( alphaId, timeout=10 ):\n",
    "    print(f\"{i.Created} Alpha {i.Source} {i.Type} insight for {i.Ticker:<10} going {i.Direction} by {i.Magnitude:.2%} over the next {i.Period}s\")\n",
    "\n",
    "print(\"Streaming completed.\")\n",
    "    "
   ]
  },
  {
   "cell_type": "code",
   "execution_count": 12,
   "metadata": {},
   "outputs": [
    {
     "name": "stdout",
     "output_type": "stream",
     "text": [
      "Ask price from 2018-07-23 16:53:04, shared $104,000.00 and the exclusive $104,000.00\n",
      "Ask price from 2018-08-05 16:25:26, shared $13,000.00 and the exclusive $13,000.00\n",
      "Ask price from 2018-08-09 04:19:29, shared $13,000.00 and the exclusive $32,500.00\n"
     ]
    }
   ],
   "source": [
    "alphaId = \"392a40ccab3740287a1c30bc6\"\n",
    "\n",
    "prices = client.GetAlphaPrices(alphaId, start = 0)\n",
    "\n",
    "# Take Top 5:\n",
    "for i in prices[:10]:\n",
    "    print(f\"{i.PriceType.title()} price from {i.Time}, shared ${i.SharedPrice:,.2f} and the exclusive ${i.ExclusivePrice:,.2f}\")"
   ]
  },
  {
   "cell_type": "code",
   "execution_count": 13,
   "metadata": {},
   "outputs": [
    {
     "name": "stdout",
     "output_type": "stream",
     "text": [
      "Error at 2018-09-22 00:07:52, error message: Algorithm., stacktrace:   at Quant\n",
      "Error at 2018-09-22 00:07:54, error message: Algorithm., stacktrace: \n",
      "Error at 2018-09-22 00:08:49, error message: Algorithm., stacktrace:   at Quant\n",
      "Error at 2018-09-22 00:08:54, error message: Algorithm., stacktrace: \n"
     ]
    }
   ],
   "source": [
    "alphaId = \"392a40ccab3740287a1c30bc6\"\n",
    "\n",
    "errors = client.GetAlphaErrors(alphaId, start = 0)\n",
    "\n",
    "# Take Top 5:\n",
    "for i in errors[:10]:\n",
    "    print(f\"Error at {i.Time}, error message: {i.Error[:10]}, stacktrace: {i.Stacktrace[:10]}\") "
   ]
  },
  {
   "cell_type": "markdown",
   "metadata": {},
   "source": [
    "### 10. Run the backtest for a given alpha"
   ]
  },
  {
   "cell_type": "code",
   "execution_count": 14,
   "metadata": {},
   "outputs": [
    {
     "name": "stdout",
     "output_type": "stream",
     "text": [
      "22:21:15.629230 :: Get or create project\n",
      "22:21:18.184393 :: Project: AlphaBacktest_118d1cbc375709792ea4d823a (1906575)\n",
      "22:21:18.184393 :: Compile and create backtest\n",
      "22:21:20.447361 :: CompileId: bfc69e9a652373937fa73cc7c5193fcd-d15d360995e61b50b673893358f8c1ca\n",
      "22:21:25.570650 :: Backtest: 2018-10-12 22:21:20.447361 (0f3b3008e18242e6f683374854f70da4)\n",
      "22:21:46.067510 :: Reading backtest result: 0.00% completed\n",
      "22:22:05.397780 :: Reading backtest result: 5.60% completed\n",
      "22:22:06.540728 :: Reading backtest result: 21.00% completed\n",
      "22:22:16.620744 :: Reading backtest result: 31.30% completed\n",
      "22:22:26.517259 :: Reading backtest result: 36.60% completed\n",
      "22:22:36.787774 :: Reading backtest result: 46.80% completed\n",
      "22:22:46.951574 :: Reading backtest result: 51.80% completed\n",
      "22:22:56.803219 :: Reading backtest result: 62.60% completed\n",
      "22:23:06.795453 :: Reading backtest result: 67.80% completed\n",
      "22:23:17.108852 :: Reading backtest result: 78.40% completed\n",
      "22:23:27.054238 :: Reading backtest result: 83.90% completed\n",
      "22:23:37.043505 :: Reading backtest result: 94.10% completed\n",
      "22:23:46.965950 :: Reading backtest result: 99.20% completed\n",
      "22:23:57.444906 :: Reading backtest result: 100.00% completed\n"
     ]
    }
   ],
   "source": [
    "alpha_id = '118d1cbc375709792ea4d823a'\n",
    "backtest = client.GetAlphaBacktest(alpha_id)"
   ]
  },
  {
   "cell_type": "code",
   "execution_count": 15,
   "metadata": {},
   "outputs": [
    {
     "data": {
      "text/plain": [
       "{'Total Trades': '634',\n",
       " 'Average Win': '0.06%',\n",
       " 'Average Loss': '-0.02%',\n",
       " 'Compounding Annual Return': '2.540%',\n",
       " 'Drawdown': '0.400%',\n",
       " 'Expectancy': '1.082',\n",
       " 'Net Profit': '8.470%',\n",
       " 'Sharpe Ratio': '1.747',\n",
       " 'Loss Rate': '42%',\n",
       " 'Win Rate': '58%',\n",
       " 'Profit-Loss Ratio': '2.61',\n",
       " 'Alpha': '0.048',\n",
       " 'Beta': '-1.721',\n",
       " 'Annual Standard Deviation': '0.012',\n",
       " 'Annual Variance': '0',\n",
       " 'Information Ratio': '0.359',\n",
       " 'Tracking Error': '0.012',\n",
       " 'Treynor Ratio': '-0.012',\n",
       " 'Total Fees': '$0.00'}"
      ]
     },
     "execution_count": 16,
     "metadata": {},
     "output_type": "execute_result"
    }
   ],
   "source": [
    "# Print statistics\n",
    "backtest.Statistics"
   ]
  },
  {
   "cell_type": "code",
   "execution_count": 17,
   "metadata": {},
   "outputs": [
    {
     "data": {
      "text/html": [
       "<div>\n",
       "<style scoped>\n",
       "    .dataframe tbody tr th:only-of-type {\n",
       "        vertical-align: middle;\n",
       "    }\n",
       "\n",
       "    .dataframe tbody tr th {\n",
       "        vertical-align: top;\n",
       "    }\n",
       "\n",
       "    .dataframe thead th {\n",
       "        text-align: right;\n",
       "    }\n",
       "</style>\n",
       "<table border=\"1\" class=\"dataframe\">\n",
       "  <thead>\n",
       "    <tr style=\"text-align: right;\">\n",
       "      <th></th>\n",
       "      <th>Time</th>\n",
       "      <th>SecurityType</th>\n",
       "      <th>Symbol</th>\n",
       "      <th>PriceCurrency</th>\n",
       "      <th>Quantity</th>\n",
       "      <th>Direction</th>\n",
       "      <th>Price</th>\n",
       "      <th>Type</th>\n",
       "      <th>Status</th>\n",
       "      <th>Tag</th>\n",
       "      <th>LastFillTime</th>\n",
       "    </tr>\n",
       "    <tr>\n",
       "      <th>Id</th>\n",
       "      <th></th>\n",
       "      <th></th>\n",
       "      <th></th>\n",
       "      <th></th>\n",
       "      <th></th>\n",
       "      <th></th>\n",
       "      <th></th>\n",
       "      <th></th>\n",
       "      <th></th>\n",
       "      <th></th>\n",
       "      <th></th>\n",
       "    </tr>\n",
       "  </thead>\n",
       "  <tbody>\n",
       "    <tr>\n",
       "      <th>1</th>\n",
       "      <td>2015-07-17 14:00:00</td>\n",
       "      <td>Forex</td>\n",
       "      <td>USDJPY 8G</td>\n",
       "      <td>JPY</td>\n",
       "      <td>-166249</td>\n",
       "      <td>Sell</td>\n",
       "      <td>124.05200</td>\n",
       "      <td>Market</td>\n",
       "      <td>Filled</td>\n",
       "      <td></td>\n",
       "      <td>2015-07-17 14:00:00</td>\n",
       "    </tr>\n",
       "    <tr>\n",
       "      <th>2</th>\n",
       "      <td>2015-07-17 14:00:00</td>\n",
       "      <td>Forex</td>\n",
       "      <td>USDCAD 8G</td>\n",
       "      <td>CAD</td>\n",
       "      <td>-166250</td>\n",
       "      <td>Sell</td>\n",
       "      <td>1.29873</td>\n",
       "      <td>Market</td>\n",
       "      <td>Filled</td>\n",
       "      <td></td>\n",
       "      <td>2015-07-17 14:00:00</td>\n",
       "    </tr>\n",
       "    <tr>\n",
       "      <th>3</th>\n",
       "      <td>2015-07-17 14:00:00</td>\n",
       "      <td>Forex</td>\n",
       "      <td>EURUSD 8G</td>\n",
       "      <td>USD</td>\n",
       "      <td>153141</td>\n",
       "      <td>Buy</td>\n",
       "      <td>1.08573</td>\n",
       "      <td>Market</td>\n",
       "      <td>Filled</td>\n",
       "      <td></td>\n",
       "      <td>2015-07-17 14:00:00</td>\n",
       "    </tr>\n",
       "    <tr>\n",
       "      <th>4</th>\n",
       "      <td>2015-07-17 14:00:00</td>\n",
       "      <td>Forex</td>\n",
       "      <td>AUDUSD 8G</td>\n",
       "      <td>USD</td>\n",
       "      <td>225466</td>\n",
       "      <td>Buy</td>\n",
       "      <td>0.73750</td>\n",
       "      <td>Market</td>\n",
       "      <td>Filled</td>\n",
       "      <td></td>\n",
       "      <td>2015-07-17 14:00:00</td>\n",
       "    </tr>\n",
       "    <tr>\n",
       "      <th>5</th>\n",
       "      <td>2015-07-17 14:00:00</td>\n",
       "      <td>Forex</td>\n",
       "      <td>GBPUSD 8G</td>\n",
       "      <td>USD</td>\n",
       "      <td>106743</td>\n",
       "      <td>Buy</td>\n",
       "      <td>1.55785</td>\n",
       "      <td>Market</td>\n",
       "      <td>Filled</td>\n",
       "      <td></td>\n",
       "      <td>2015-07-17 14:00:00</td>\n",
       "    </tr>\n",
       "  </tbody>\n",
       "</table>\n",
       "</div>"
      ],
      "text/plain": [
       "                  Time SecurityType     Symbol PriceCurrency  Quantity  \\\n",
       "Id                                                                       \n",
       "1  2015-07-17 14:00:00        Forex  USDJPY 8G           JPY   -166249   \n",
       "2  2015-07-17 14:00:00        Forex  USDCAD 8G           CAD   -166250   \n",
       "3  2015-07-17 14:00:00        Forex  EURUSD 8G           USD    153141   \n",
       "4  2015-07-17 14:00:00        Forex  AUDUSD 8G           USD    225466   \n",
       "5  2015-07-17 14:00:00        Forex  GBPUSD 8G           USD    106743   \n",
       "\n",
       "   Direction      Price    Type  Status Tag        LastFillTime  \n",
       "Id                                                               \n",
       "1       Sell  124.05200  Market  Filled     2015-07-17 14:00:00  \n",
       "2       Sell    1.29873  Market  Filled     2015-07-17 14:00:00  \n",
       "3        Buy    1.08573  Market  Filled     2015-07-17 14:00:00  \n",
       "4        Buy    0.73750  Market  Filled     2015-07-17 14:00:00  \n",
       "5        Buy    1.55785  Market  Filled     2015-07-17 14:00:00  "
      ]
     },
     "execution_count": 18,
     "metadata": {},
     "output_type": "execute_result"
    }
   ],
   "source": [
    "# Print orders\n",
    "backtest.Orders.head(5)"
   ]
  },
  {
   "cell_type": "code",
   "execution_count": 19,
   "metadata": {},
   "outputs": [
    {
     "data": {
      "text/html": [
       "<div>\n",
       "<style scoped>\n",
       "    .dataframe tbody tr th:only-of-type {\n",
       "        vertical-align: middle;\n",
       "    }\n",
       "\n",
       "    .dataframe tbody tr th {\n",
       "        vertical-align: top;\n",
       "    }\n",
       "\n",
       "    .dataframe thead th {\n",
       "        text-align: right;\n",
       "    }\n",
       "</style>\n",
       "<table border=\"1\" class=\"dataframe\">\n",
       "  <thead>\n",
       "    <tr style=\"text-align: right;\">\n",
       "      <th></th>\n",
       "      <th>Symbol</th>\n",
       "      <th>Quantity</th>\n",
       "      <th>Direction</th>\n",
       "      <th>EntryPrice</th>\n",
       "      <th>ExitPrice</th>\n",
       "      <th>ExitTime</th>\n",
       "      <th>Duration</th>\n",
       "      <th>EndTradeDrawdown</th>\n",
       "      <th>MAE</th>\n",
       "      <th>MFE</th>\n",
       "      <th>ProfitLoss</th>\n",
       "      <th>TotalFees</th>\n",
       "    </tr>\n",
       "    <tr>\n",
       "      <th>EntryTime</th>\n",
       "      <th></th>\n",
       "      <th></th>\n",
       "      <th></th>\n",
       "      <th></th>\n",
       "      <th></th>\n",
       "      <th></th>\n",
       "      <th></th>\n",
       "      <th></th>\n",
       "      <th></th>\n",
       "      <th></th>\n",
       "      <th></th>\n",
       "      <th></th>\n",
       "    </tr>\n",
       "  </thead>\n",
       "  <tbody>\n",
       "    <tr>\n",
       "      <th>2015-07-17 14:00:00</th>\n",
       "      <td>USDJPY 8G</td>\n",
       "      <td>166249</td>\n",
       "      <td>Sell</td>\n",
       "      <td>124.05200</td>\n",
       "      <td>124.04100</td>\n",
       "      <td>2015-07-17 14:06:00</td>\n",
       "      <td>00:06:00</td>\n",
       "      <td>-12.07</td>\n",
       "      <td>-12.06</td>\n",
       "      <td>26.81</td>\n",
       "      <td>14.74</td>\n",
       "      <td>0</td>\n",
       "    </tr>\n",
       "    <tr>\n",
       "      <th>2015-07-17 14:00:00</th>\n",
       "      <td>USDCAD 8G</td>\n",
       "      <td>166250</td>\n",
       "      <td>Sell</td>\n",
       "      <td>1.29873</td>\n",
       "      <td>1.29932</td>\n",
       "      <td>2015-07-17 14:06:00</td>\n",
       "      <td>00:06:00</td>\n",
       "      <td>-75.50</td>\n",
       "      <td>-124.12</td>\n",
       "      <td>0.00</td>\n",
       "      <td>-75.50</td>\n",
       "      <td>0</td>\n",
       "    </tr>\n",
       "    <tr>\n",
       "      <th>2015-07-17 14:00:00</th>\n",
       "      <td>AUDUSD 8G</td>\n",
       "      <td>225466</td>\n",
       "      <td>Buy</td>\n",
       "      <td>0.73750</td>\n",
       "      <td>0.73723</td>\n",
       "      <td>2015-07-17 14:06:00</td>\n",
       "      <td>00:06:00</td>\n",
       "      <td>-60.88</td>\n",
       "      <td>-145.43</td>\n",
       "      <td>0.00</td>\n",
       "      <td>-60.88</td>\n",
       "      <td>0</td>\n",
       "    </tr>\n",
       "    <tr>\n",
       "      <th>2015-07-17 14:00:00</th>\n",
       "      <td>EURUSD 8G</td>\n",
       "      <td>153141</td>\n",
       "      <td>Buy</td>\n",
       "      <td>1.08573</td>\n",
       "      <td>1.08544</td>\n",
       "      <td>2015-07-17 14:06:00</td>\n",
       "      <td>00:06:00</td>\n",
       "      <td>-44.41</td>\n",
       "      <td>-150.08</td>\n",
       "      <td>0.00</td>\n",
       "      <td>-44.41</td>\n",
       "      <td>0</td>\n",
       "    </tr>\n",
       "    <tr>\n",
       "      <th>2015-07-17 14:00:00</th>\n",
       "      <td>GBPUSD 8G</td>\n",
       "      <td>106743</td>\n",
       "      <td>Buy</td>\n",
       "      <td>1.55785</td>\n",
       "      <td>1.55712</td>\n",
       "      <td>2015-07-17 14:06:00</td>\n",
       "      <td>00:06:00</td>\n",
       "      <td>-77.92</td>\n",
       "      <td>-167.05</td>\n",
       "      <td>0.00</td>\n",
       "      <td>-77.92</td>\n",
       "      <td>0</td>\n",
       "    </tr>\n",
       "  </tbody>\n",
       "</table>\n",
       "</div>"
      ],
      "text/plain": [
       "                        Symbol  Quantity Direction  EntryPrice  ExitPrice  \\\n",
       "EntryTime                                                                   \n",
       "2015-07-17 14:00:00  USDJPY 8G    166249      Sell   124.05200  124.04100   \n",
       "2015-07-17 14:00:00  USDCAD 8G    166250      Sell     1.29873    1.29932   \n",
       "2015-07-17 14:00:00  AUDUSD 8G    225466       Buy     0.73750    0.73723   \n",
       "2015-07-17 14:00:00  EURUSD 8G    153141       Buy     1.08573    1.08544   \n",
       "2015-07-17 14:00:00  GBPUSD 8G    106743       Buy     1.55785    1.55712   \n",
       "\n",
       "                               ExitTime Duration  EndTradeDrawdown     MAE  \\\n",
       "EntryTime                                                                    \n",
       "2015-07-17 14:00:00 2015-07-17 14:06:00 00:06:00            -12.07  -12.06   \n",
       "2015-07-17 14:00:00 2015-07-17 14:06:00 00:06:00            -75.50 -124.12   \n",
       "2015-07-17 14:00:00 2015-07-17 14:06:00 00:06:00            -60.88 -145.43   \n",
       "2015-07-17 14:00:00 2015-07-17 14:06:00 00:06:00            -44.41 -150.08   \n",
       "2015-07-17 14:00:00 2015-07-17 14:06:00 00:06:00            -77.92 -167.05   \n",
       "\n",
       "                       MFE  ProfitLoss  TotalFees  \n",
       "EntryTime                                          \n",
       "2015-07-17 14:00:00  26.81       14.74          0  \n",
       "2015-07-17 14:00:00   0.00      -75.50          0  \n",
       "2015-07-17 14:00:00   0.00      -60.88          0  \n",
       "2015-07-17 14:00:00   0.00      -44.41          0  \n",
       "2015-07-17 14:00:00   0.00      -77.92          0  "
      ]
     },
     "execution_count": 20,
     "metadata": {},
     "output_type": "execute_result"
    }
   ],
   "source": [
    "# Print closed trades\n",
    "backtest.ClosedTrades.head(5)"
   ]
  },
  {
   "cell_type": "code",
   "execution_count": 21,
   "metadata": {},
   "outputs": [
    {
     "data": {
      "image/png": "[encoded data removed]",
      "text/plain": [
       "<Figure size 432x288 with 1 Axes>"
      ]
     },
     "metadata": {},
     "output_type": "display_data"
    }
   ],
   "source": [
    "# Plot Equity curve (see Charts attribute for more)\n",
    "%matplotlib inline\n",
    "import matplotlib.pyplot as plt\n",
    "\n",
    "df = backtest.Charts['Strategy Equity']['Equity']\n",
    "df = ((df / df.iloc[0] - 1) * 100)\n",
    "\n",
    "plt.figure()\n",
    "ax = df.plot(color = [\"#F5AE29\",\"grey\"])\n",
    "fig = ax.get_figure()\n",
    "plt.xticks(rotation = 0,ha = 'center')\n",
    "plt.xlabel(\"\")\n",
    "plt.ylabel('Cumulative Return(%)',size = 12,fontweight='bold')\n",
    "ax.legend([\"Strategy\",\"Benchmark\"],prop = {'weight':'bold'},frameon=False, loc = \"upper left\")\n",
    "plt.axhline(y = 0, color = 'black')\n",
    "ax.grid()"
   ]
  },
  {
   "cell_type": "code",
   "execution_count": 22,
   "metadata": {},
   "outputs": [
    {
     "data": {
      "image/png": "[encoded data removed]",
      "text/plain": [
       "<Figure size 432x288 with 1 Axes>"
      ]
     },
     "metadata": {},
     "output_type": "display_data"
    }
   ],
   "source": [
    "# Plot Sharpe Ratio curve (see RollingWindow attribute for more)\n",
    "%matplotlib inline\n",
    "import matplotlib.pyplot as plt\n",
    "\n",
    "df = backtest.RollingWindow['SharpeRatio']\n",
    "\n",
    "plt.figure()\n",
    "ax = df.plot()\n",
    "fig = ax.get_figure()\n",
    "plt.xticks(rotation = 0,ha = 'center')\n",
    "plt.xlabel(\"\")\n",
    "plt.ylabel('Sharpe Ratio',size = 12,fontweight='bold')\n",
    "ax.legend(['Sharpe Ratio'],prop = {'weight':'bold'},frameon=False, loc = \"upper right\")\n",
    "plt.axhline(y = 0, color = 'black')\n",
    "ax.grid()"
   ]
  },
  {
   "cell_type": "markdown",
   "metadata": {},
   "source": [
    "### 11. Create a conversation thread.\n",
    "Start a conversation with the author(s) of the alpha via email. Quickly solve reconciliation issues or design automated filter questions.    "
   ]
  },
  {
   "cell_type": "code",
   "execution_count": null,
   "metadata": {},
   "outputs": [],
   "source": [
    "client.CreateConversation(\n",
    "    alphaId = \"118d1cbc375709792ea4d823a\",\n",
    "    email = \"you@your-company.com\",\n",
    "    message = \"Hello World!\",\n",
    "    subject = \"Alpha Conversation\",\n",
    "    cc = \"bot1@your-company.com, bot2@your-company.com, bot2@your-company.com\"\n",
    ")"
   ]
  }
 ],
 "metadata": {
  "kernelspec": {
   "display_name": "Python 3",
   "language": "python",
   "name": "python3"
  },
  "language_info": {
   "codemirror_mode": {
    "name": "ipython",
    "version": 3
   },
   "file_extension": ".py",
   "mimetype": "text/x-python",
   "name": "python",
   "nbconvert_exporter": "python",
   "pygments_lexer": "ipython3",
   "version": "3.6.5"
  }
 },
 "nbformat": 4,
 "nbformat_minor": 2
}
