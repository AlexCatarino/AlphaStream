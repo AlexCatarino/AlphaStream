{
 "cells": [
  {
   "cell_type": "markdown",
   "metadata": {},
   "source": [
    "![QuantConnect Logo](https://cdn.quantconnect.com/web/i/logo-small.png)\n",
    "# QuantConnect Alpha Streams\n",
    "#### Licensed Under QuantConnect Platform Service Agreement v1.0. Copyright QuantConnect 2018.\n",
    "#### For more information; see the Open API Specification of Alpha Streams: https://app.swaggerhub.com/apis/QuantConnect/Alpha/0.4"
   ]
  },
  {
   "cell_type": "markdown",
   "metadata": {},
   "source": [
    "## Introduction\n",
    "\n",
    "QuantConnect Alpha Streams allows quantiative funds to search a database of algorithm authors; and instantly license the authors' strategies (`Alpha`). The license agreements and fee structure is already prenegotiated, and the standardized backtesting and live trading infrastructure can give funds confidence in the algorithm results. Upon licensing an Alpha the insights/signals are instantly delivered to the fund in realtime."
   ]
  },
  {
   "cell_type": "markdown",
   "metadata": {},
   "source": [
    "## Alpha Stream Backtest"
   ]
  },
  {
   "cell_type": "markdown",
   "metadata": {},
   "source": [
    "### 1. Setup the alpha stream backtest: Login with Client Credentials\n",
    "We have create a tool to easily backtest an alpha. \n",
    "To start create project at https://www.quantconnect.com/terminal/ with an empty `AlphaStreamsAPIFrameworkAlgorithm.cs` file.\n",
    "\n",
    "\n",
    "Then create new instance of `AlphaBacktest` with the project id, your quantconnect user id and tocken and your alpha stream client id and token."
   ]
  },
  {
   "cell_type": "code",
   "execution_count": 1,
   "metadata": {},
   "outputs": [],
   "source": [
    "# Import AlphaBacktest library\n",
    "%matplotlib inline\n",
    "import matplotlib.pyplot as plt\n",
    "from AlphaBacktest import AlphaBacktest\n",
    "\n",
    "project_id = 1840764\n",
    "qc_user_id = 0\n",
    "qc_token = ''\n",
    "alpha_user_id = 'c7bd966e930c4b15b2ec13eb0d6170d9'\n",
    "alpha_token = '7030e89cfcc1948f4f93e91edd93d6f687c737844a6969d99d609a78f8d0a5c4091ef11f31c4c0e9cccacefe36ff4c2ad0e15525a85c65b0eafa34064cd11b1c'"
   ]
  },
  {
   "cell_type": "code",
   "execution_count": 2,
   "metadata": {},
   "outputs": [],
   "source": [
    "alpha_id = '118d1cbc375709792ea4d823a'\n",
    "obj = AlphaBacktest(alpha_id, project_id, qc_user_id, qc_token, alpha_user_id, alpha_token)"
   ]
  },
  {
   "cell_type": "code",
   "execution_count": 3,
   "metadata": {},
   "outputs": [
    {
     "data": {
      "text/plain": [
       "<Figure size 432x288 with 0 Axes>"
      ]
     },
     "metadata": {},
     "output_type": "display_data"
    },
    {
     "data": {
      "image/png": "[encoded data removed]",
      "text/plain": [
       "<Figure size 432x288 with 1 Axes>"
      ]
     },
     "metadata": {},
     "output_type": "display_data"
    }
   ],
   "source": [
    "plt.figure()\n",
    "ax = obj.curve.plot(color = [\"#F5AE29\",\"grey\"])\n",
    "fig = ax.get_figure()\n",
    "plt.xticks(rotation = 0,ha = 'center')\n",
    "plt.xlabel(\"\")\n",
    "plt.ylabel('Cumulative Return(%)',size = 12,fontweight='bold')\n",
    "ax.legend([\"Strategy\",\"Benchmark\"],prop = {'weight':'bold'},frameon=False, loc = \"upper left\")\n",
    "plt.axhline(y = 0, color = 'black')\n",
    "ax.grid()"
   ]
  }
 ],
 "metadata": {
  "kernelspec": {
   "display_name": "Python 3",
   "language": "python",
   "name": "python3"
  },
  "language_info": {
   "codemirror_mode": {
    "name": "ipython",
    "version": 3
   },
   "file_extension": ".py",
   "mimetype": "text/x-python",
   "name": "python",
   "nbconvert_exporter": "python",
   "pygments_lexer": "ipython3",
   "version": "3.6.5"
  }
 },
 "nbformat": 4,
 "nbformat_minor": 2
}
