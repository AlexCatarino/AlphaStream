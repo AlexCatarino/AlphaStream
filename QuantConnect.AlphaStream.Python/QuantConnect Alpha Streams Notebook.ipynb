{
 "cells": [
  {
   "cell_type": "markdown",
   "metadata": {},
   "source": [
    "![QuantConnect Logo](https://cdn.quantconnect.com/web/i/logo-small.png)\n",
    "# QuantConnect Alpha Streams\n",
    "#### Licensed Under QuantConnect Platform Service Agreement v1.0. Copyright QuantConnect 2018.\n",
    "#### For more information; see the Open API Specification of Alpha Streams: https://app.swaggerhub.com/apis/QuantConnect/Alpha/0.4"
   ]
  },
  {
   "cell_type": "markdown",
   "metadata": {},
   "source": [
    "## Introduction\n",
    "\n",
    "QuantConnect Alpha Streams allows quantiative funds to search a database of algorithm authors; and instantly license the authors' strategies (`Alpha`). The license agreements and fee structure is already prenegotiated, and the standardized backtesting and live trading infrastructure can give funds confidence in the algorithm results. Upon licensing an Alpha the insights/signals are instantly delivered to the fund in realtime."
   ]
  },
  {
   "cell_type": "markdown",
   "metadata": {},
   "source": [
    "## Terminology\n",
    " - `Alpha`     - Strategy for licensing.\n",
    " - `Author`    - QuantConnect member and creator of the Alpha. \n",
    " - `Insight`   - Trade signal from an algorithm; consisting of an asset, direction, magnitude and confidence.\n",
    " - `Project`   - Properties of the project which submitted the `Alpha` "
   ]
  },
  {
   "cell_type": "markdown",
   "metadata": {},
   "source": [
    "## SDK Demonstration\n"
   ]
  },
  {
   "cell_type": "markdown",
   "metadata": {},
   "source": [
    "### 1. Setup the SDK: Login with Client Credentials\n",
    "We have written a full abstraction and SDK for the API which you can quickly import into your investment process. To start create a new instance of the `AlphaStreamClient` with your clientId and token."
   ]
  },
  {
   "cell_type": "code",
   "execution_count": 1,
   "metadata": {},
   "outputs": [],
   "source": [
    "# Import Python SDK Client Library \n",
    "from AlphaStreamClient import AlphaStreamClient \n",
    "\n",
    "# Define the clientId and API access token:\n",
    "clientId    = \"c7bd966e930c4b15b2ec13eb0d6170d9\"\n",
    "token       = \"7030e89cfcc1948f4f93e91edd93d6f687c737844a6969d99d609a78f8d0a5c4091ef11f31c4c0e9cccacefe36ff4c2ad0e15525a85c65b0eafa34064cd11b1c\"\n",
    "\n",
    "# Create a new instance of the client module:\n",
    "client = AlphaStreamClient(clientId, token)"
   ]
  },
  {
   "cell_type": "markdown",
   "metadata": {},
   "source": [
    "### 2. Searching Alpha Strategies For Licensing\n",
    "The primary aim of the Alpha Streams API is to quickly search for Alpha which matches your criteria. This criteria is unique to your fund and might include such aspects as: asset class, time horizon, risk adjusted return or market depth. Alpha Streams API aims to give you flexibility you need to locate suitable algorithms."
   ]
  },
  {
   "cell_type": "code",
   "execution_count": 2,
   "metadata": {},
   "outputs": [],
   "source": [
    "# Import Alpha Search Request Requirements\n",
    "from Requests.SearchAlphasRequest import SearchAlphasRequest\n",
    "\n",
    "# Define search criteria\n",
    "projectId = 830918\n",
    "\n",
    "# Submit Search:\n",
    "alphas = []\n",
    "#alphas = client.SearchAlphas( projectId = projectId, sharedFeeMinimum = 1000 )\n",
    "\n",
    "# Display some information on the algorithms:\n",
    "for a in alphas:\n",
    "    print(\"Alpha: id: {} Project: '{}' Fee: ${:,.2f}/mo\".format(a.Id, a.Project.Name, a.SharedSubscriptionFee))"
   ]
  },
  {
   "cell_type": "markdown",
   "metadata": {},
   "source": [
    "### 3. Pull Information on an Alpha By Specific AlphaId\n",
    "You can fetch information on an alpha by its associated id with the `/alpha/{id}` API endpoint."
   ]
  },
  {
   "cell_type": "code",
   "execution_count": 3,
   "metadata": {
    "scrolled": true
   },
   "outputs": [
    {
     "name": "stdout",
     "output_type": "stream",
     "text": [
      "Alpha Matched Id: \n",
      "\t id: 623b06b231eb1cc1aa3643a46 \n",
      "\t Project: Basic/Clone of: CSharp Framework \n",
      "\t ExclusiveAvailable: True \n",
      "\t Listed: 2018-03-11 08:33:48 \n"
     ]
    }
   ],
   "source": [
    "# Prospective / Test Alpha Id:\n",
    "alphaId = \"623b06b231eb1cc1aa3643a46\"\n",
    "alpha = client.GetAlphaById( alphaId )\n",
    "\n",
    "# Print out the Alpha data:\n",
    "print( \"Alpha Matched Id: \\n\\t id: {} \\n\\t Project: {} \\n\\t ExclusiveAvailable: {} \\n\\t Listed: {} \".\n",
    "      format(alpha.Id, alpha.Project.Name, alpha.ExclusiveAvailable, alpha.ListedDate) )"
   ]
  },
  {
   "cell_type": "markdown",
   "metadata": {},
   "source": [
    "### 4. Get Last 5 Insights of an Alpha\n",
    "All historical insights of an Alpha are recorded in a database. Insights are generated `in sample`, `out of sample` or in `live trading`. Using these insights you can perform your own backtests with your own fill and slippage models to see how the strategy would have performed with your execution."
   ]
  },
  {
   "cell_type": "code",
   "execution_count": 17,
   "metadata": {},
   "outputs": [
    {
     "name": "stdout",
     "output_type": "stream",
     "text": [
      "2018-03-15 10:00:06.000200 Alpha live trading price insight for FB         going up by 2.50% over the next 5s\n",
      "2018-03-15 10:00:06.000200 Alpha live trading price insight for IBM        going up by 2.50% over the next 5s\n",
      "2018-03-15 10:00:06.000200 Alpha live trading price insight for LTCBTC     going up by 2.50% over the next 5s\n",
      "2018-03-15 10:00:06.000200 Alpha live trading price insight for LTCUSD     going up by 2.50% over the next 5s\n",
      "2018-03-15 10:00:06.000200 Alpha live trading price insight for MSFT       going up by 2.50% over the next 5s\n",
      "2018-03-15 10:00:06.000200 Alpha live trading price insight for SPY        going up by 2.50% over the next 5s\n",
      "2018-03-15 10:00:11.001100 Alpha live trading price insight for AAPL       going up by 2.50% over the next 5s\n",
      "2018-03-15 10:00:11.001100 Alpha live trading price insight for BTCUSD     going up by 2.50% over the next 5s\n",
      "2018-03-15 10:00:11.001100 Alpha live trading price insight for ETHBTC     going up by 2.50% over the next 5s\n",
      "2018-03-15 10:00:11.001100 Alpha live trading price insight for ETHUSD     going up by 2.50% over the next 5s\n"
     ]
    }
   ],
   "source": [
    "# Import the Insights Request Class:\n",
    "from Requests.GetAlphaInsightsRequest import GetAlphaInsightsRequest\n",
    "\n",
    "# Request Insights for the Previously Alpha\n",
    "insights = client.GetAlphaInsights( alphaId, start = 600000 )\n",
    "\n",
    "# Take Top 5:\n",
    "for i in insights[:10]:\n",
    "    print( \"{} Alpha {} {} insight for {:<10} going {} by {:.2%} over the next {}s\".format(i.Created, i.Source, i.Type, i.Ticker, i.Direction, i.Magnitude, i.Period) )"
   ]
  },
  {
   "cell_type": "markdown",
   "metadata": {
    "scrolled": true
   },
   "source": [
    "### 5. Seach Alpha Streams by Author Details\n",
    "Knowing who created the Alpha can be an important search tool to improve your filtering. Participating Author information can be searched in a similar manner to the Alpha Search. Each supplied criteria is a logical AND on the query.\n"
   ]
  },
  {
   "cell_type": "code",
   "execution_count": 4,
   "metadata": {},
   "outputs": [
    {
     "name": "stdout",
     "output_type": "stream",
     "text": [
      "Located 3 authors matching your criteria.\n",
      "Author id 108c2 is from New York, New York, US, signed up 2016-03-03 04:57:10 and programs in C#\n",
      "Author id 1aed0 is from Brooklyn, New York, US, signed up 2017-11-27 23:35:08 and programs in C#\n",
      "Author id 29b7d is from Long Island City, New York, US, signed up 2018-02-05 21:26:46 and programs in C#\n"
     ]
    }
   ],
   "source": [
    "languages = [\"C#\"]\n",
    "\n",
    "authors = client.SearchAuthors( languages = languages, location = \"New York\" )\n",
    "\n",
    "print(\"Located {} authors matching your criteria.\".format(len(authors)))\n",
    "\n",
    "for a in authors[:5]:\n",
    "    print(\"Author id {:>5} is from {}, signed up {} and programs in {}\".format( a.Id[:5], a.Location, a.SignUpTime, a.Language) )"
   ]
  },
  {
   "cell_type": "markdown",
   "metadata": {},
   "source": [
    "### 6. Fetch Detailed Information on a Specific Author\n",
    "The API allows you to fetch detailed information on a specific author by the hash-id."
   ]
  },
  {
   "cell_type": "code",
   "execution_count": 5,
   "metadata": {},
   "outputs": [
    {
     "name": "stdout",
     "output_type": "stream",
     "text": [
      "Author Matched Id: \n",
      "\t id: 1f483 \n",
      "\t Biography: I'm part of the QuantConnect Engineering team. I h... \n",
      "\t Projects: 224 \n",
      "\t Language: C# \n",
      "\t Signed Up: 2015-03-28 20:10:29 \n",
      "\t Location: Chalfont, Pennsylvania, US \n"
     ]
    }
   ],
   "source": [
    "# Author to fetch profile information about:\n",
    "authorId = \"1f48359f6c6cbad65b091232eaae73ce\"\n",
    "\n",
    "# Submit request for more information:\n",
    "author = client.GetAuthorByIdRequest(authorId)\n",
    "\n",
    "# Print out the Alpha data:\n",
    "print( \"Author Matched Id: \\n\\t id: {} \\n\\t Biography: {}... \\n\\t Projects: {} \\n\\t Language: {} \\n\\t Signed Up: {} \\n\\t Location: {} \".\n",
    "      format(author.Id[:5], author.Biography[:50], author.Projects, author.Language, author.SignUpTime, author.Location ) )"
   ]
  },
  {
   "cell_type": "markdown",
   "metadata": {},
   "source": [
    "### 7. Subscribing and Unsubscribing from An Alpha\n",
    "Once you've located an Alpha you need to subscribe to it to recieve its streaming insights. Alphas have a monthly licensing fee which is engaged once you request its signals. There is a minimum fee equivalent to 7 days of licensing from an Alpha. Sending a subscription request starts delivery of the signals to the fund-exchange."
   ]
  },
  {
   "cell_type": "code",
   "execution_count": 14,
   "metadata": {},
   "outputs": [
    {
     "name": "stdout",
     "output_type": "stream",
     "text": [
      "Stopped Subscription to 623b06b231eb1cc1aa3643a46: True\n"
     ]
    }
   ],
   "source": [
    "# Alpha to subscribe to:\n",
    "alphaId = \"623b06b231eb1cc1aa3643a46\"\n",
    "\n",
    "unsubscribeResult = client.Unsubscribe( alphaId )\n",
    "print(\"Stopped Subscription to {}: {}\".format(alphaId, unsubscribeResult))"
   ]
  },
  {
   "cell_type": "code",
   "execution_count": 15,
   "metadata": {},
   "outputs": [
    {
     "name": "stdout",
     "output_type": "stream",
     "text": [
      "Started Subscription to 623b06b231eb1cc1aa3643a46: True\n"
     ]
    }
   ],
   "source": [
    "subscribeResult = client.Subscribe( alphaId )\n",
    "print(\"Started Subscription to {}: {}\".format(alphaId, subscribeResult))"
   ]
  },
  {
   "cell_type": "markdown",
   "metadata": {},
   "source": [
    "### 8. Stream Insights from An Alpha\n",
    "Finally once analysed and subscribed to an Alpha - you can pull down the individual insights with the streaming socket connection. This is to use the insights in realtime in your fund management."
   ]
  },
  {
   "cell_type": "code",
   "execution_count": 18,
   "metadata": {},
   "outputs": [
    {
     "name": "stdout",
     "output_type": "stream",
     "text": [
      "Streaming insights for 5 seconds... \n",
      "2018-03-18 22:30:09.000943 Alpha live trading price insight for AAPL       going up by 2.50% over the next 5.0s\n",
      "2018-03-18 22:30:09.000943 Alpha live trading price insight for BTCUSD     going up by 2.50% over the next 5.0s\n",
      "2018-03-18 22:30:09.000943 Alpha live trading price insight for ETHBTC     going up by 2.50% over the next 5.0s\n",
      "2018-03-18 22:30:09.000943 Alpha live trading price insight for ETHUSD     going up by 2.50% over the next 5.0s\n",
      "2018-03-18 22:30:09.000943 Alpha live trading price insight for FB         going up by 2.50% over the next 5.0s\n",
      "2018-03-18 22:30:09.000943 Alpha live trading price insight for IBM        going up by 2.50% over the next 5.0s\n",
      "2018-03-18 22:30:09.000943 Alpha live trading price insight for LTCBTC     going up by 2.50% over the next 5.0s\n",
      "2018-03-18 22:30:09.000943 Alpha live trading price insight for LTCUSD     going up by 2.50% over the next 5.0s\n",
      "2018-03-18 22:30:09.000943 Alpha live trading price insight for MSFT       going up by 2.50% over the next 5.0s\n",
      "2018-03-18 22:30:09.000943 Alpha live trading price insight for SPY        going up by 2.50% over the next 5.0s\n",
      "2018-03-18 22:30:15.000836 Alpha live trading price insight for AAPL       going up by 2.50% over the next 5.0s\n",
      "2018-03-18 22:30:15.000836 Alpha live trading price insight for BTCUSD     going up by 2.50% over the next 5.0s\n",
      "2018-03-18 22:30:15.000836 Alpha live trading price insight for ETHBTC     going up by 2.50% over the next 5.0s\n",
      "2018-03-18 22:30:15.000836 Alpha live trading price insight for ETHUSD     going up by 2.50% over the next 5.0s\n",
      "2018-03-18 22:30:15.000836 Alpha live trading price insight for FB         going up by 2.50% over the next 5.0s\n",
      "2018-03-18 22:30:15.000836 Alpha live trading price insight for IBM        going up by 2.50% over the next 5.0s\n",
      "2018-03-18 22:30:15.000836 Alpha live trading price insight for LTCBTC     going up by 2.50% over the next 5.0s\n",
      "2018-03-18 22:30:15.000836 Alpha live trading price insight for LTCUSD     going up by 2.50% over the next 5.0s\n",
      "2018-03-18 22:30:15.000836 Alpha live trading price insight for MSFT       going up by 2.50% over the next 5.0s\n",
      "2018-03-18 22:30:15.000836 Alpha live trading price insight for SPY        going up by 2.50% over the next 5.0s\n",
      "Streaming completed.\n"
     ]
    }
   ],
   "source": [
    "# Import the streaming client helper library\n",
    "from AlphaInsightsStreamClient import AlphaInsightsStreamClient\n",
    "\n",
    "# Configure authentication details\n",
    "ipaddress = \"35.231.13.1\"\n",
    "user = \"demo-api\"\n",
    "password = \"demo\"\n",
    "virtualhost = \"demo-client\"\n",
    "exchange = \"QCAlphaExchange_Demo-Client\"\n",
    "queueName = alphaId\n",
    "routingKey = alphaId\n",
    "\n",
    "# Create the streaming client tool:\n",
    "streamClient = AlphaInsightsStreamClient(user, password, ipaddress, virtualhost, exchange)\n",
    "\n",
    "print(\"Streaming insights for 5 seconds... \")\n",
    "\n",
    "# StreamSynchronously pulls down Insights for a minimum timeout in a blocking manner.\n",
    "for i in streamClient.StreamSynchronously( alphaId, timeout=10 ):\n",
    "    print( \"{} Alpha {} {} insight for {:<10} going {} by {:.2%} over the next {}s\".format(i.Created, i.Source, i.Type, i.Ticker, i.Direction, i.Magnitude, i.Period) )\n",
    "\n",
    "print(\"Streaming completed.\")\n",
    "    "
   ]
  }
 ],
 "metadata": {
  "kernelspec": {
   "display_name": "Python 3",
   "language": "python",
   "name": "python3"
  },
  "language_info": {
   "codemirror_mode": {
    "name": "ipython",
    "version": 3
   },
   "file_extension": ".py",
   "mimetype": "text/x-python",
   "name": "python",
   "nbconvert_exporter": "python",
   "pygments_lexer": "ipython3",
   "version": "3.6.4"
  }
 },
 "nbformat": 4,
 "nbformat_minor": 2
}
