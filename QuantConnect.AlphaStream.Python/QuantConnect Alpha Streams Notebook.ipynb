{
 "cells": [
  {
   "cell_type": "markdown",
   "metadata": {},
   "source": [
    "![QuantConnect Logo](https://cdn.quantconnect.com/web/i/logo-small.png)\n",
    "# QuantConnect Alpha Streams\n",
    "#### Licensed Under QuantConnect Platform Service Agreement v1.0. Copyright QuantConnect 2018.\n",
    "#### For more information; see the Open API Specification of Alpha Streams: https://app.swaggerhub.com/apis/QuantConnect/Alpha/0.4"
   ]
  },
  {
   "cell_type": "markdown",
   "metadata": {},
   "source": [
    "## Introduction\n",
    "\n",
    "QuantConnect Alpha Streams allows quantiative funds to search a database of algorithm authors; and instantly license the authors' strategies (`Alpha`). The license agreements and fee structure is already prenegotiated, and the standardized backtesting and live trading infrastructure can give funds confidence in the algorithm results. Upon licensing an Alpha the insights/signals are instantly delivered to the fund in realtime."
   ]
  },
  {
   "cell_type": "markdown",
   "metadata": {},
   "source": [
    "## Terminology\n",
    " - `Alpha`     - Strategy for licensing.\n",
    " - `Author`    - QuantConnect member and creator of the Alpha. \n",
    " - `Insight`   - Trade signal from an algorithm; consisting of an asset, direction, magnitude and confidence.\n",
    " - `Project`   - Properties of the project which submitted the `Alpha` "
   ]
  },
  {
   "cell_type": "markdown",
   "metadata": {},
   "source": [
    "## SDK Demonstration\n"
   ]
  },
  {
   "cell_type": "markdown",
   "metadata": {},
   "source": [
    "### 1. Setup the SDK: Login with Client Credentials\n",
    "We have written a full abstraction and SDK for the API which you can quickly import into your investment process. To start create a new instance of the `AlphaStreamClient` with your clientId and token."
   ]
  },
  {
   "cell_type": "code",
   "execution_count": 1,
   "metadata": {},
   "outputs": [],
   "source": [
    "# Import Python SDK Client Library \n",
    "from AlphaStreamClient import AlphaStreamClient \n",
    "\n",
    "# Define the clientId and API access token:\n",
    "clientId    = \"c7bd966e930c4b15b2ec13eb0d6170d9\"\n",
    "token       = \"7030e89cfcc1948f4f93e91edd93d6f687c737844a6969d99d609a78f8d0a5c4091ef11f31c4c0e9cccacefe36ff4c2ad0e15525a85c65b0eafa34064cd11b1c\"\n",
    "\n",
    "# Create a new instance of the client module:\n",
    "client = AlphaStreamClient(clientId, token)"
   ]
  },
  {
   "cell_type": "markdown",
   "metadata": {},
   "source": [
    "### 2. Searching Alpha Strategies For Licensing\n",
    "The primary aim of the Alpha Streams API is to quickly search for Alpha which matches your criteria. This criteria is unique to your fund and might include such aspects as: asset class, time horizon, risk adjusted return or market depth. Alpha Streams API aims to give you flexibility you need to locate suitable algorithms."
   ]
  },
  {
   "cell_type": "code",
   "execution_count": 2,
   "metadata": {},
   "outputs": [
    {
     "name": "stdout",
     "output_type": "stream",
     "text": [
      "Alpha: id: 6994413727d90645478ddb397 Project: '2 JET STONE - BTC Forever Up' Fee: $9,999.00/mo\n",
      "Alpha: id: 75580dfb66b941036344fc561 Project: '2 JET STONE - BTC Forever Up' Fee: $99,999.00/mo\n",
      "Alpha: id: b4764d68a792fc4654d910516 Project: '2 JET STONE - BTC Forever Up' Fee: $51,651,321.00/mo\n",
      "Alpha: id: c723b49e01a452e308af7362f Project: '2 JET STONE - BTC Forever Up' Fee: $99,999.00/mo\n"
     ]
    }
   ],
   "source": [
    "# Import Alpha Search Request Requirements\n",
    "from Requests.SearchAlphasRequest import SearchAlphasRequest\n",
    "\n",
    "# Define search criteria\n",
    "projectId = 830918\n",
    "\n",
    "# Submit Search:\n",
    "alphas = client.SearchAlphas( projectId = projectId, sharedFeeMinimum = 1000 )\n",
    "\n",
    "# Display some information on the algorithms:\n",
    "for a in alphas:\n",
    "    print(\"Alpha: id: {} Project: '{}' Fee: ${:,.2f}/mo\".format(a.Id, a.Project.Name, a.SharedSubscriptionFee))"
   ]
  },
  {
   "cell_type": "markdown",
   "metadata": {},
   "source": [
    "### 3. Pull Information on an Alpha By Specific AlphaId\n",
    "You can fetch information on an alpha by its associated id with the `/alpha/{id}` API endpoint."
   ]
  },
  {
   "cell_type": "code",
   "execution_count": 3,
   "metadata": {
    "scrolled": true
   },
   "outputs": [
    {
     "name": "stdout",
     "output_type": "stream",
     "text": [
      "Alpha Matched Id: \n",
      "\t id: 623b06b231eb1cc1aa3643a46 \n",
      "\t Project: Basic/Clone of: CSharp Framework \n",
      "\t ExclusiveAvailable: True \n",
      "\t Listed: 2018-03-11 08:33:48 \n"
     ]
    }
   ],
   "source": [
    "# Prospective / Test Alpha Id:\n",
    "alphaId = \"623b06b231eb1cc1aa3643a46\"\n",
    "alpha = client.GetAlphaById( alphaId )\n",
    "\n",
    "# Print out the Alpha data:\n",
    "print( \"Alpha Matched Id: \\n\\t id: {} \\n\\t Project: {} \\n\\t ExclusiveAvailable: {} \\n\\t Listed: {} \".\n",
    "      format(alpha.Id, alpha.Project.Name, alpha.ExclusiveAvailable, alpha.ListedDate) )"
   ]
  },
  {
   "cell_type": "markdown",
   "metadata": {},
   "source": [
    "### 4. Get Last 5 Insights of an Alpha\n",
    "All historical insights of an Alpha are recorded in a database. Insights are generated `in sample`, `out of sample` or in `live trading`. Using these insights you can perform your own backtests with your own fill and slippage models to see how the strategy would have performed with your execution."
   ]
  },
  {
   "cell_type": "code",
   "execution_count": 11,
   "metadata": {},
   "outputs": [
    {
     "name": "stdout",
     "output_type": "stream",
     "text": [
      "2018-03-15 10:00:06.000200 Alpha live trading price insight for FB         going up by 2.50% over the next 5s\n",
      "2018-03-15 10:00:06.000200 Alpha live trading price insight for IBM        going up by 2.50% over the next 5s\n",
      "2018-03-15 10:00:06.000200 Alpha live trading price insight for LTCBTC     going up by 2.50% over the next 5s\n",
      "2018-03-15 10:00:06.000200 Alpha live trading price insight for LTCUSD     going up by 2.50% over the next 5s\n",
      "2018-03-15 10:00:06.000200 Alpha live trading price insight for MSFT       going up by 2.50% over the next 5s\n",
      "2018-03-15 10:00:06.000200 Alpha live trading price insight for SPY        going up by 2.50% over the next 5s\n",
      "2018-03-15 10:00:11.001100 Alpha live trading price insight for AAPL       going up by 2.50% over the next 5s\n",
      "2018-03-15 10:00:11.001100 Alpha live trading price insight for BTCUSD     going up by 2.50% over the next 5s\n",
      "2018-03-15 10:00:11.001100 Alpha live trading price insight for ETHBTC     going up by 2.50% over the next 5s\n",
      "2018-03-15 10:00:11.001100 Alpha live trading price insight for ETHUSD     going up by 2.50% over the next 5s\n"
     ]
    }
   ],
   "source": [
    "# Import the Insights Request Class:\n",
    "from Requests.GetAlphaInsightsRequest import GetAlphaInsightsRequest\n",
    "\n",
    "# Request Insights for the Previously Alpha\n",
    "insights = client.GetAlphaInsights( alphaId, start = 600000 )\n",
    "\n",
    "# Take Top 5:\n",
    "for i in insights[:10]:\n",
    "    print( \"{} Alpha {} {} insight for {:<10} going {} by {:.2%} over the next {}s\".format(i.Created, i.Source, i.Type, i.Ticker, i.Direction, i.Magnitude, i.Period) )"
   ]
  },
  {
   "cell_type": "markdown",
   "metadata": {
    "scrolled": true
   },
   "source": [
    "### 5. Seach Alpha Streams by Author Details\n",
    "Knowing who created the Alpha can be an important search tool to improve your filtering. Participating Author information can be searched in a similar manner to the Alpha Search. Each supplied criteria is a logical AND on the query.\n"
   ]
  },
  {
   "cell_type": "code",
   "execution_count": 12,
   "metadata": {},
   "outputs": [
    {
     "name": "stdout",
     "output_type": "stream",
     "text": [
      "Located 3 authors matching your criteria.\n",
      "Author id 108c2 is from New York, New York, US, signed up 2016-03-03 04:57:10 and programs in C#\n",
      "Author id 1aed0 is from Brooklyn, New York, US, signed up 2017-11-27 23:35:08 and programs in C#\n",
      "Author id 29b7d is from Long Island City, New York, US, signed up 2018-02-05 21:26:46 and programs in C#\n"
     ]
    }
   ],
   "source": [
    "languages = [\"C#\"]\n",
    "\n",
    "authors = client.SearchAuthors( languages = languages, location = \"New York\" )\n",
    "\n",
    "print(\"Located {} authors matching your criteria.\".format(len(authors)))\n",
    "\n",
    "for a in authors[:5]:\n",
    "    print(\"Author id {:>5} is from {}, signed up {} and programs in {}\".format( a.Id[:5], a.Location, a.SignUpTime, a.Language) )"
   ]
  },
  {
   "cell_type": "code",
   "execution_count": null,
   "metadata": {},
   "outputs": [],
   "source": []
  }
 ],
 "metadata": {
  "kernelspec": {
   "display_name": "Python 3",
   "language": "python",
   "name": "python3"
  },
  "language_info": {
   "codemirror_mode": {
    "name": "ipython",
    "version": 3
   },
   "file_extension": ".py",
   "mimetype": "text/x-python",
   "name": "python",
   "nbconvert_exporter": "python",
   "pygments_lexer": "ipython3",
   "version": "3.6.4"
  }
 },
 "nbformat": 4,
 "nbformat_minor": 2
}
